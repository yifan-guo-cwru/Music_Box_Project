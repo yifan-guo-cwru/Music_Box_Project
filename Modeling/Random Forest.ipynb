{
 "cells": [
  {
   "cell_type": "code",
   "execution_count": 1,
   "metadata": {
    "collapsed": true
   },
   "outputs": [],
   "source": [
    "import numpy as np\n",
    "import pandas as pd\n",
    "import matplotlib.pyplot as plt\n",
    "\n",
    "% matplotlib inline\n",
    "# Always make it pretty.\n",
    "plt.style.use('ggplot')"
   ]
  },
  {
   "cell_type": "code",
   "execution_count": 2,
   "metadata": {
    "collapsed": true
   },
   "outputs": [],
   "source": [
    "# Load data from file\n",
    "df = pd.read_csv('churn.csv')"
   ]
  },
  {
   "cell_type": "code",
   "execution_count": 3,
   "metadata": {},
   "outputs": [
    {
     "data": {
      "text/html": [
       "<div>\n",
       "<style scoped>\n",
       "    .dataframe tbody tr th:only-of-type {\n",
       "        vertical-align: middle;\n",
       "    }\n",
       "\n",
       "    .dataframe tbody tr th {\n",
       "        vertical-align: top;\n",
       "    }\n",
       "\n",
       "    .dataframe thead th {\n",
       "        text-align: right;\n",
       "    }\n",
       "</style>\n",
       "<table border=\"1\" class=\"dataframe\">\n",
       "  <thead>\n",
       "    <tr style=\"text-align: right;\">\n",
       "      <th></th>\n",
       "      <th>uid</th>\n",
       "      <th>target</th>\n",
       "      <th>last 1 days frequency on play log</th>\n",
       "      <th>last 3 days frequency on play log</th>\n",
       "      <th>last 7 days frequency on play log</th>\n",
       "      <th>last 14 days frequency on play log</th>\n",
       "      <th>last 30 days frequency on play log</th>\n",
       "      <th>recency on play log</th>\n",
       "      <th>last 1 days play time percentage of song length</th>\n",
       "      <th>last 3 days play time percentage of song length</th>\n",
       "      <th>last 7 days play time percentage of song length</th>\n",
       "      <th>last 14 days play time percentage of song length</th>\n",
       "      <th>last 30 days play time percentage of song length</th>\n",
       "    </tr>\n",
       "  </thead>\n",
       "  <tbody>\n",
       "    <tr>\n",
       "      <th>0</th>\n",
       "      <td>167772160.0</td>\n",
       "      <td>0.0</td>\n",
       "      <td>4.0</td>\n",
       "      <td>27.0</td>\n",
       "      <td>28.0</td>\n",
       "      <td>39.0</td>\n",
       "      <td>137</td>\n",
       "      <td>1.0</td>\n",
       "      <td>0.473935</td>\n",
       "      <td>0.760951</td>\n",
       "      <td>0.767341</td>\n",
       "      <td>0.807052</td>\n",
       "      <td>0.816434</td>\n",
       "    </tr>\n",
       "    <tr>\n",
       "      <th>1</th>\n",
       "      <td>167772162.0</td>\n",
       "      <td>0.0</td>\n",
       "      <td>0.0</td>\n",
       "      <td>3.0</td>\n",
       "      <td>3.0</td>\n",
       "      <td>7.0</td>\n",
       "      <td>48</td>\n",
       "      <td>2.0</td>\n",
       "      <td>0.000000</td>\n",
       "      <td>0.819936</td>\n",
       "      <td>0.819936</td>\n",
       "      <td>0.822981</td>\n",
       "      <td>0.659536</td>\n",
       "    </tr>\n",
       "    <tr>\n",
       "      <th>2</th>\n",
       "      <td>167772163.0</td>\n",
       "      <td>0.0</td>\n",
       "      <td>0.0</td>\n",
       "      <td>0.0</td>\n",
       "      <td>0.0</td>\n",
       "      <td>11.0</td>\n",
       "      <td>11</td>\n",
       "      <td>8.0</td>\n",
       "      <td>0.000000</td>\n",
       "      <td>0.000000</td>\n",
       "      <td>0.000000</td>\n",
       "      <td>0.452746</td>\n",
       "      <td>0.452746</td>\n",
       "    </tr>\n",
       "    <tr>\n",
       "      <th>3</th>\n",
       "      <td>168296454.0</td>\n",
       "      <td>0.0</td>\n",
       "      <td>0.0</td>\n",
       "      <td>0.0</td>\n",
       "      <td>1.0</td>\n",
       "      <td>1.0</td>\n",
       "      <td>25</td>\n",
       "      <td>7.0</td>\n",
       "      <td>0.000000</td>\n",
       "      <td>0.000000</td>\n",
       "      <td>0.570796</td>\n",
       "      <td>0.570796</td>\n",
       "      <td>0.283139</td>\n",
       "    </tr>\n",
       "    <tr>\n",
       "      <th>4</th>\n",
       "      <td>167772170.0</td>\n",
       "      <td>0.0</td>\n",
       "      <td>0.0</td>\n",
       "      <td>0.0</td>\n",
       "      <td>0.0</td>\n",
       "      <td>18.0</td>\n",
       "      <td>58</td>\n",
       "      <td>9.0</td>\n",
       "      <td>0.000000</td>\n",
       "      <td>0.000000</td>\n",
       "      <td>0.000000</td>\n",
       "      <td>0.868650</td>\n",
       "      <td>0.854653</td>\n",
       "    </tr>\n",
       "  </tbody>\n",
       "</table>\n",
       "</div>"
      ],
      "text/plain": [
       "           uid  target  last 1 days frequency on play log  \\\n",
       "0  167772160.0     0.0                                4.0   \n",
       "1  167772162.0     0.0                                0.0   \n",
       "2  167772163.0     0.0                                0.0   \n",
       "3  168296454.0     0.0                                0.0   \n",
       "4  167772170.0     0.0                                0.0   \n",
       "\n",
       "   last 3 days frequency on play log  last 7 days frequency on play log  \\\n",
       "0                               27.0                               28.0   \n",
       "1                                3.0                                3.0   \n",
       "2                                0.0                                0.0   \n",
       "3                                0.0                                1.0   \n",
       "4                                0.0                                0.0   \n",
       "\n",
       "   last 14 days frequency on play log  last 30 days frequency on play log  \\\n",
       "0                                39.0                                 137   \n",
       "1                                 7.0                                  48   \n",
       "2                                11.0                                  11   \n",
       "3                                 1.0                                  25   \n",
       "4                                18.0                                  58   \n",
       "\n",
       "   recency on play log  last 1 days play time percentage of song length  \\\n",
       "0                  1.0                                         0.473935   \n",
       "1                  2.0                                         0.000000   \n",
       "2                  8.0                                         0.000000   \n",
       "3                  7.0                                         0.000000   \n",
       "4                  9.0                                         0.000000   \n",
       "\n",
       "   last 3 days play time percentage of song length  \\\n",
       "0                                         0.760951   \n",
       "1                                         0.819936   \n",
       "2                                         0.000000   \n",
       "3                                         0.000000   \n",
       "4                                         0.000000   \n",
       "\n",
       "   last 7 days play time percentage of song length  \\\n",
       "0                                         0.767341   \n",
       "1                                         0.819936   \n",
       "2                                         0.000000   \n",
       "3                                         0.570796   \n",
       "4                                         0.000000   \n",
       "\n",
       "   last 14 days play time percentage of song length  \\\n",
       "0                                          0.807052   \n",
       "1                                          0.822981   \n",
       "2                                          0.452746   \n",
       "3                                          0.570796   \n",
       "4                                          0.868650   \n",
       "\n",
       "   last 30 days play time percentage of song length  \n",
       "0                                          0.816434  \n",
       "1                                          0.659536  \n",
       "2                                          0.452746  \n",
       "3                                          0.283139  \n",
       "4                                          0.854653  "
      ]
     },
     "execution_count": 3,
     "metadata": {},
     "output_type": "execute_result"
    }
   ],
   "source": [
    "# Browse dataset\n",
    "df.head(5)"
   ]
  },
  {
   "cell_type": "code",
   "execution_count": 4,
   "metadata": {},
   "outputs": [
    {
     "data": {
      "text/html": [
       "<div>\n",
       "<style scoped>\n",
       "    .dataframe tbody tr th:only-of-type {\n",
       "        vertical-align: middle;\n",
       "    }\n",
       "\n",
       "    .dataframe tbody tr th {\n",
       "        vertical-align: top;\n",
       "    }\n",
       "\n",
       "    .dataframe thead th {\n",
       "        text-align: right;\n",
       "    }\n",
       "</style>\n",
       "<table border=\"1\" class=\"dataframe\">\n",
       "  <thead>\n",
       "    <tr style=\"text-align: right;\">\n",
       "      <th></th>\n",
       "      <th>uid</th>\n",
       "      <th>target</th>\n",
       "      <th>last 1 days frequency on play log</th>\n",
       "      <th>last 3 days frequency on play log</th>\n",
       "      <th>last 7 days frequency on play log</th>\n",
       "      <th>last 14 days frequency on play log</th>\n",
       "      <th>last 30 days frequency on play log</th>\n",
       "      <th>recency on play log</th>\n",
       "      <th>last 1 days play time percentage of song length</th>\n",
       "      <th>last 3 days play time percentage of song length</th>\n",
       "      <th>last 7 days play time percentage of song length</th>\n",
       "      <th>last 14 days play time percentage of song length</th>\n",
       "      <th>last 30 days play time percentage of song length</th>\n",
       "    </tr>\n",
       "  </thead>\n",
       "  <tbody>\n",
       "    <tr>\n",
       "      <th>count</th>\n",
       "      <td>3.995980e+05</td>\n",
       "      <td>399598.000000</td>\n",
       "      <td>399598.000000</td>\n",
       "      <td>399598.000000</td>\n",
       "      <td>399598.000000</td>\n",
       "      <td>399598.000000</td>\n",
       "      <td>399598.000000</td>\n",
       "      <td>399598.000000</td>\n",
       "      <td>399598.000000</td>\n",
       "      <td>399598.000000</td>\n",
       "      <td>399598.000000</td>\n",
       "      <td>399598.000000</td>\n",
       "      <td>399598.000000</td>\n",
       "    </tr>\n",
       "    <tr>\n",
       "      <th>mean</th>\n",
       "      <td>1.681728e+08</td>\n",
       "      <td>0.500000</td>\n",
       "      <td>3.594845</td>\n",
       "      <td>11.142431</td>\n",
       "      <td>24.344814</td>\n",
       "      <td>51.633737</td>\n",
       "      <td>130.165359</td>\n",
       "      <td>14.219681</td>\n",
       "      <td>0.130197</td>\n",
       "      <td>0.211607</td>\n",
       "      <td>0.286117</td>\n",
       "      <td>0.362373</td>\n",
       "      <td>0.625767</td>\n",
       "    </tr>\n",
       "    <tr>\n",
       "      <th>std</th>\n",
       "      <td>2.841814e+06</td>\n",
       "      <td>0.500001</td>\n",
       "      <td>16.121792</td>\n",
       "      <td>39.603312</td>\n",
       "      <td>77.491364</td>\n",
       "      <td>145.367558</td>\n",
       "      <td>293.423647</td>\n",
       "      <td>11.510612</td>\n",
       "      <td>0.293819</td>\n",
       "      <td>0.344733</td>\n",
       "      <td>0.366814</td>\n",
       "      <td>0.369368</td>\n",
       "      <td>0.240023</td>\n",
       "    </tr>\n",
       "    <tr>\n",
       "      <th>min</th>\n",
       "      <td>1.000718e+08</td>\n",
       "      <td>0.000000</td>\n",
       "      <td>0.000000</td>\n",
       "      <td>0.000000</td>\n",
       "      <td>0.000000</td>\n",
       "      <td>0.000000</td>\n",
       "      <td>1.000000</td>\n",
       "      <td>1.000000</td>\n",
       "      <td>0.000000</td>\n",
       "      <td>0.000000</td>\n",
       "      <td>0.000000</td>\n",
       "      <td>0.000000</td>\n",
       "      <td>0.000160</td>\n",
       "    </tr>\n",
       "    <tr>\n",
       "      <th>25%</th>\n",
       "      <td>1.680215e+08</td>\n",
       "      <td>0.000000</td>\n",
       "      <td>0.000000</td>\n",
       "      <td>0.000000</td>\n",
       "      <td>0.000000</td>\n",
       "      <td>0.000000</td>\n",
       "      <td>9.000000</td>\n",
       "      <td>2.000000</td>\n",
       "      <td>0.000000</td>\n",
       "      <td>0.000000</td>\n",
       "      <td>0.000000</td>\n",
       "      <td>0.000000</td>\n",
       "      <td>0.463027</td>\n",
       "    </tr>\n",
       "    <tr>\n",
       "      <th>50%</th>\n",
       "      <td>1.684580e+08</td>\n",
       "      <td>0.500000</td>\n",
       "      <td>0.000000</td>\n",
       "      <td>0.000000</td>\n",
       "      <td>0.000000</td>\n",
       "      <td>2.000000</td>\n",
       "      <td>36.000000</td>\n",
       "      <td>12.000000</td>\n",
       "      <td>0.000000</td>\n",
       "      <td>0.000000</td>\n",
       "      <td>0.000000</td>\n",
       "      <td>0.315091</td>\n",
       "      <td>0.650924</td>\n",
       "    </tr>\n",
       "    <tr>\n",
       "      <th>75%</th>\n",
       "      <td>1.687644e+08</td>\n",
       "      <td>1.000000</td>\n",
       "      <td>0.000000</td>\n",
       "      <td>4.000000</td>\n",
       "      <td>16.000000</td>\n",
       "      <td>43.000000</td>\n",
       "      <td>135.000000</td>\n",
       "      <td>27.000000</td>\n",
       "      <td>0.000000</td>\n",
       "      <td>0.463005</td>\n",
       "      <td>0.651066</td>\n",
       "      <td>0.721854</td>\n",
       "      <td>0.819095</td>\n",
       "    </tr>\n",
       "    <tr>\n",
       "      <th>max</th>\n",
       "      <td>1.692623e+08</td>\n",
       "      <td>1.000000</td>\n",
       "      <td>3804.000000</td>\n",
       "      <td>8204.000000</td>\n",
       "      <td>17086.000000</td>\n",
       "      <td>26141.000000</td>\n",
       "      <td>50096.000000</td>\n",
       "      <td>30.000000</td>\n",
       "      <td>1.000000</td>\n",
       "      <td>1.000000</td>\n",
       "      <td>1.000000</td>\n",
       "      <td>1.000000</td>\n",
       "      <td>1.000000</td>\n",
       "    </tr>\n",
       "  </tbody>\n",
       "</table>\n",
       "</div>"
      ],
      "text/plain": [
       "                uid         target  last 1 days frequency on play log  \\\n",
       "count  3.995980e+05  399598.000000                      399598.000000   \n",
       "mean   1.681728e+08       0.500000                           3.594845   \n",
       "std    2.841814e+06       0.500001                          16.121792   \n",
       "min    1.000718e+08       0.000000                           0.000000   \n",
       "25%    1.680215e+08       0.000000                           0.000000   \n",
       "50%    1.684580e+08       0.500000                           0.000000   \n",
       "75%    1.687644e+08       1.000000                           0.000000   \n",
       "max    1.692623e+08       1.000000                        3804.000000   \n",
       "\n",
       "       last 3 days frequency on play log  last 7 days frequency on play log  \\\n",
       "count                      399598.000000                      399598.000000   \n",
       "mean                           11.142431                          24.344814   \n",
       "std                            39.603312                          77.491364   \n",
       "min                             0.000000                           0.000000   \n",
       "25%                             0.000000                           0.000000   \n",
       "50%                             0.000000                           0.000000   \n",
       "75%                             4.000000                          16.000000   \n",
       "max                          8204.000000                       17086.000000   \n",
       "\n",
       "       last 14 days frequency on play log  last 30 days frequency on play log  \\\n",
       "count                       399598.000000                       399598.000000   \n",
       "mean                            51.633737                          130.165359   \n",
       "std                            145.367558                          293.423647   \n",
       "min                              0.000000                            1.000000   \n",
       "25%                              0.000000                            9.000000   \n",
       "50%                              2.000000                           36.000000   \n",
       "75%                             43.000000                          135.000000   \n",
       "max                          26141.000000                        50096.000000   \n",
       "\n",
       "       recency on play log  last 1 days play time percentage of song length  \\\n",
       "count        399598.000000                                    399598.000000   \n",
       "mean             14.219681                                         0.130197   \n",
       "std              11.510612                                         0.293819   \n",
       "min               1.000000                                         0.000000   \n",
       "25%               2.000000                                         0.000000   \n",
       "50%              12.000000                                         0.000000   \n",
       "75%              27.000000                                         0.000000   \n",
       "max              30.000000                                         1.000000   \n",
       "\n",
       "       last 3 days play time percentage of song length  \\\n",
       "count                                    399598.000000   \n",
       "mean                                          0.211607   \n",
       "std                                           0.344733   \n",
       "min                                           0.000000   \n",
       "25%                                           0.000000   \n",
       "50%                                           0.000000   \n",
       "75%                                           0.463005   \n",
       "max                                           1.000000   \n",
       "\n",
       "       last 7 days play time percentage of song length  \\\n",
       "count                                    399598.000000   \n",
       "mean                                          0.286117   \n",
       "std                                           0.366814   \n",
       "min                                           0.000000   \n",
       "25%                                           0.000000   \n",
       "50%                                           0.000000   \n",
       "75%                                           0.651066   \n",
       "max                                           1.000000   \n",
       "\n",
       "       last 14 days play time percentage of song length  \\\n",
       "count                                     399598.000000   \n",
       "mean                                           0.362373   \n",
       "std                                            0.369368   \n",
       "min                                            0.000000   \n",
       "25%                                            0.000000   \n",
       "50%                                            0.315091   \n",
       "75%                                            0.721854   \n",
       "max                                            1.000000   \n",
       "\n",
       "       last 30 days play time percentage of song length  \n",
       "count                                     399598.000000  \n",
       "mean                                           0.625767  \n",
       "std                                            0.240023  \n",
       "min                                            0.000160  \n",
       "25%                                            0.463027  \n",
       "50%                                            0.650924  \n",
       "75%                                            0.819095  \n",
       "max                                            1.000000  "
      ]
     },
     "execution_count": 4,
     "metadata": {},
     "output_type": "execute_result"
    }
   ],
   "source": [
    "# Show summary stats\n",
    "df.describe()"
   ]
  },
  {
   "cell_type": "code",
   "execution_count": 5,
   "metadata": {},
   "outputs": [
    {
     "name": "stdout",
     "output_type": "stream",
     "text": [
      "199799\n",
      "199799\n"
     ]
    }
   ],
   "source": [
    "# test whether it has been balanced \n",
    "print(df[df.target == 0.0].uid.count())\n",
    "print(df[df.target == 1.0].uid.count())"
   ]
  },
  {
   "cell_type": "markdown",
   "metadata": {},
   "source": [
    "## Build Random Forest Model"
   ]
  },
  {
   "cell_type": "markdown",
   "metadata": {},
   "source": [
    "### 1. Define Features and Target"
   ]
  },
  {
   "cell_type": "code",
   "execution_count": 6,
   "metadata": {
    "collapsed": true
   },
   "outputs": [],
   "source": [
    "selected_features = df.columns.tolist()\n",
    "selected_features.remove('target')\n",
    "target = 'target'"
   ]
  },
  {
   "cell_type": "code",
   "execution_count": 7,
   "metadata": {},
   "outputs": [
    {
     "name": "stdout",
     "output_type": "stream",
     "text": [
      "(399598, 12)\n",
      "(399598,)\n"
     ]
    }
   ],
   "source": [
    "X = df[selected_features].values\n",
    "y = df['target'].values\n",
    "print(X.shape)\n",
    "print(y.shape)"
   ]
  },
  {
   "cell_type": "markdown",
   "metadata": {
    "collapsed": true
   },
   "source": [
    "### 2. Use cross validation to split the data into 5-fold cv"
   ]
  },
  {
   "cell_type": "code",
   "execution_count": 8,
   "metadata": {},
   "outputs": [
    {
     "name": "stdout",
     "output_type": "stream",
     "text": [
      "KFold(n_splits=5, random_state=1129, shuffle=True)\n"
     ]
    }
   ],
   "source": [
    "from sklearn.model_selection import KFold\n",
    "kf = KFold(n_splits=5, shuffle = True, random_state = 1129)\n",
    "print(kf)\n",
    "\n",
    "cv_feature = []\n",
    "cv_traget = []\n",
    "for train_index, test_index in kf.split(X):\n",
    "    X_train, X_test = X[train_index], X[test_index]\n",
    "    y_train, y_test = y[train_index], y[test_index]\n",
    "    cv_feature.append([X_train, X_test])\n",
    "    cv_traget.append([y_train, y_test])"
   ]
  },
  {
   "cell_type": "markdown",
   "metadata": {},
   "source": [
    "### 3.Fit a Random Forest model using sklearn"
   ]
  },
  {
   "cell_type": "code",
   "execution_count": 9,
   "metadata": {
    "collapsed": true
   },
   "outputs": [],
   "source": [
    "# Load scikit's random forest classifier library\n",
    "from sklearn.ensemble import RandomForestClassifier\n",
    "\n",
    "# store the prediction result \n",
    "y_train_pred_list = []\n",
    "y_test_pred_list = []\n",
    "y_train_true_list = []\n",
    "y_test_true_list = []\n",
    "\n",
    "# Create a random forest Classifier. By convention, clf means 'Classifier'\n",
    "model = RandomForestClassifier(n_jobs=-1, random_state=1129)\n",
    "\n",
    "# cv_feature shape: [[(1)],[(2)],[(3)],[(4)],[(5)]], (i) = X_train, X_test, i = 1,2,3,4,5.\n",
    "# cv_traget shape: [[(1)],[(2)],[(3)],[(4)],[(5)]], (i) = y_train, y_test, i = 1,2,3,4,5.\n",
    "\n",
    "for index in range(len(cv_feature)):\n",
    "    \n",
    "    # define the X_train, y_train, X_test, y_test\n",
    "    X_train = cv_feature[index][0]\n",
    "    y_train = cv_traget[index][0]\n",
    "    X_test = cv_feature[index][1]\n",
    "    y_test = cv_traget[index][1]\n",
    "    \n",
    "    # Fit a model by providing X and y from training set\n",
    "    model.fit(X_train, y_train)\n",
    "\n",
    "    # Make prediction on the training data\n",
    "    y_train_pred = model.predict(X_train)\n",
    "\n",
    "    # Make predictions on test data\n",
    "    y_test_pred = model.predict(X_test)\n",
    "    \n",
    "    # store the result\n",
    "    y_train_pred_list.append(y_train_pred)\n",
    "    y_test_pred_list.append(y_test_pred)\n",
    "    y_train_true_list.append(y_train)\n",
    "    y_test_true_list.append(y_test)"
   ]
  },
  {
   "cell_type": "markdown",
   "metadata": {},
   "source": [
    "### 4. Calculate the metric scores for the model"
   ]
  },
  {
   "cell_type": "code",
   "execution_count": 10,
   "metadata": {
    "collapsed": true
   },
   "outputs": [],
   "source": [
    "# Import metrics functions from sklearn\n",
    "from sklearn.metrics import precision_score, accuracy_score, recall_score, f1_score, roc_auc_score"
   ]
  },
  {
   "cell_type": "code",
   "execution_count": 11,
   "metadata": {
    "collapsed": true
   },
   "outputs": [],
   "source": [
    "# Helper method to print metric scores\n",
    "def print_results(y_true, y_pred):\n",
    "    a, p, r, f = do_metric(y_true, y_pred)\n",
    "    print(\"Accuracy of the Logistic Regression is: {}\".format(a))\n",
    "    print(\"Precision of the Logistic Regression is: {}\".format(p))\n",
    "    print(\"Recall of the Logistic Regression is: {}\".format(r))\n",
    "    print(\"f1-score of the Logistic Regression is: {}\".format(f))\n",
    "\n",
    "def do_metric(y_true, y_pred):\n",
    "    a_list = []\n",
    "    p_list = []\n",
    "    r_list = []\n",
    "    f_list = []\n",
    "    for index in range(len(y_true)):\n",
    "        a_list.append(accuracy_score(y_true[index], y_pred[index]))\n",
    "        p_list.append(precision_score(y_true[index], y_pred[index]))\n",
    "        r_list.append(recall_score(y_true[index], y_pred[index]))\n",
    "        f_list.append(f1_score(y_true[index], y_pred[index]))\n",
    "    return (np.mean(np.array(a_list)), np.mean(np.array(p_list)), np.mean(np.array(r_list)), np.mean(np.array(f_list)))"
   ]
  },
  {
   "cell_type": "code",
   "execution_count": 12,
   "metadata": {},
   "outputs": [
    {
     "name": "stdout",
     "output_type": "stream",
     "text": [
      "Training set scores:\n",
      "Accuracy of the Logistic Regression is: 0.9899186180574541\n",
      "Precision of the Logistic Regression is: 0.9940309206450332\n",
      "Recall of the Logistic Regression is: 0.985756760001299\n",
      "f1-score of the Logistic Regression is: 0.9898765082852098\n"
     ]
    }
   ],
   "source": [
    "print(\"Training set scores:\")\n",
    "print_results(y_train_true_list, y_train_pred_list)"
   ]
  },
  {
   "cell_type": "code",
   "execution_count": 13,
   "metadata": {},
   "outputs": [
    {
     "name": "stdout",
     "output_type": "stream",
     "text": [
      "Test set scores:\n",
      "Accuracy of the Logistic Regression is: 0.8455397690825125\n",
      "Precision of the Logistic Regression is: 0.848973249868\n",
      "Recall of the Logistic Regression is: 0.8406263247197812\n",
      "f1-score of the Logistic Regression is: 0.8447747258244668\n"
     ]
    }
   ],
   "source": [
    "print(\"Test set scores:\")\n",
    "print_results(y_test_true_list, y_test_pred_list)"
   ]
  },
  {
   "cell_type": "markdown",
   "metadata": {},
   "source": [
    "### 5. Estimated Coefficients"
   ]
  },
  {
   "cell_type": "code",
   "execution_count": 16,
   "metadata": {},
   "outputs": [
    {
     "data": {
      "text/html": [
       "<div>\n",
       "<style scoped>\n",
       "    .dataframe tbody tr th:only-of-type {\n",
       "        vertical-align: middle;\n",
       "    }\n",
       "\n",
       "    .dataframe tbody tr th {\n",
       "        vertical-align: top;\n",
       "    }\n",
       "\n",
       "    .dataframe thead th {\n",
       "        text-align: right;\n",
       "    }\n",
       "</style>\n",
       "<table border=\"1\" class=\"dataframe\">\n",
       "  <thead>\n",
       "    <tr style=\"text-align: right;\">\n",
       "      <th></th>\n",
       "      <th>feature</th>\n",
       "      <th>importance score</th>\n",
       "    </tr>\n",
       "  </thead>\n",
       "  <tbody>\n",
       "    <tr>\n",
       "      <th>4</th>\n",
       "      <td>last 14 days frequency on play log</td>\n",
       "      <td>0.156716</td>\n",
       "    </tr>\n",
       "    <tr>\n",
       "      <th>10</th>\n",
       "      <td>last 14 days play time percentage of song length</td>\n",
       "      <td>0.149898</td>\n",
       "    </tr>\n",
       "    <tr>\n",
       "      <th>0</th>\n",
       "      <td>uid</td>\n",
       "      <td>0.147205</td>\n",
       "    </tr>\n",
       "    <tr>\n",
       "      <th>11</th>\n",
       "      <td>last 30 days play time percentage of song length</td>\n",
       "      <td>0.137024</td>\n",
       "    </tr>\n",
       "    <tr>\n",
       "      <th>9</th>\n",
       "      <td>last 7 days play time percentage of song length</td>\n",
       "      <td>0.104232</td>\n",
       "    </tr>\n",
       "    <tr>\n",
       "      <th>3</th>\n",
       "      <td>last 7 days frequency on play log</td>\n",
       "      <td>0.095167</td>\n",
       "    </tr>\n",
       "    <tr>\n",
       "      <th>5</th>\n",
       "      <td>last 30 days frequency on play log</td>\n",
       "      <td>0.088034</td>\n",
       "    </tr>\n",
       "    <tr>\n",
       "      <th>6</th>\n",
       "      <td>recency on play log</td>\n",
       "      <td>0.061466</td>\n",
       "    </tr>\n",
       "    <tr>\n",
       "      <th>8</th>\n",
       "      <td>last 3 days play time percentage of song length</td>\n",
       "      <td>0.042426</td>\n",
       "    </tr>\n",
       "    <tr>\n",
       "      <th>2</th>\n",
       "      <td>last 3 days frequency on play log</td>\n",
       "      <td>0.010026</td>\n",
       "    </tr>\n",
       "    <tr>\n",
       "      <th>7</th>\n",
       "      <td>last 1 days play time percentage of song length</td>\n",
       "      <td>0.004983</td>\n",
       "    </tr>\n",
       "    <tr>\n",
       "      <th>1</th>\n",
       "      <td>last 1 days frequency on play log</td>\n",
       "      <td>0.002823</td>\n",
       "    </tr>\n",
       "  </tbody>\n",
       "</table>\n",
       "</div>"
      ],
      "text/plain": [
       "                                             feature  importance score\n",
       "4                 last 14 days frequency on play log          0.156716\n",
       "10  last 14 days play time percentage of song length          0.149898\n",
       "0                                                uid          0.147205\n",
       "11  last 30 days play time percentage of song length          0.137024\n",
       "9    last 7 days play time percentage of song length          0.104232\n",
       "3                  last 7 days frequency on play log          0.095167\n",
       "5                 last 30 days frequency on play log          0.088034\n",
       "6                                recency on play log          0.061466\n",
       "8    last 3 days play time percentage of song length          0.042426\n",
       "2                  last 3 days frequency on play log          0.010026\n",
       "7    last 1 days play time percentage of song length          0.004983\n",
       "1                  last 1 days frequency on play log          0.002823"
      ]
     },
     "execution_count": 16,
     "metadata": {},
     "output_type": "execute_result"
    }
   ],
   "source": [
    "#View a list of the features and their importance scores\n",
    "df_coeffs = pd.DataFrame(list(zip(selected_features, model.feature_importances_))).sort_values(by=[1], ascending=False)\n",
    "df_coeffs.columns = ['feature', 'importance score']\n",
    "df_coeffs"
   ]
  },
  {
   "cell_type": "code",
   "execution_count": 17,
   "metadata": {},
   "outputs": [
    {
     "data": {
      "image/png": "[encoded data removed]",
      "text/plain": [
       "<matplotlib.figure.Figure at 0x10ef4f9b0>"
      ]
     },
     "metadata": {},
     "output_type": "display_data"
    }
   ],
   "source": [
    "ax = df_coeffs.plot.barh()\n",
    "t = np.arange(X.shape[1])\n",
    "ax.set_yticks(t)\n",
    "ax.set_yticklabels(df_coeffs['feature'])\n",
    "plt.show()"
   ]
  },
  {
   "cell_type": "markdown",
   "metadata": {},
   "source": [
    "### 6. More Model Evaluation"
   ]
  },
  {
   "cell_type": "markdown",
   "metadata": {},
   "source": [
    "#### 6.1 Confusion Matrix"
   ]
  },
  {
   "cell_type": "code",
   "execution_count": 21,
   "metadata": {
    "collapsed": true
   },
   "outputs": [],
   "source": [
    "from sklearn.metrics import confusion_matrix, classification_report, roc_curve"
   ]
  },
  {
   "cell_type": "code",
   "execution_count": 22,
   "metadata": {},
   "outputs": [
    {
     "data": {
      "text/plain": [
       "array([[159200,    907],\n",
       "       [  2344, 157227]])"
      ]
     },
     "execution_count": 22,
     "metadata": {},
     "output_type": "execute_result"
    }
   ],
   "source": [
    "confusion_matrix(y_train_true_list[0], y_train_pred_list[0])"
   ]
  },
  {
   "cell_type": "code",
   "execution_count": 23,
   "metadata": {
    "collapsed": true
   },
   "outputs": [],
   "source": [
    "# Helper method to plot confusion matrix\n",
    "def plot_confusion_matrix(y_true, y_pred):\n",
    "    '''\n",
    "    Code from sklearn example.\n",
    "    '''\n",
    "    \n",
    "    cm = confusion_matrix(y_true, y_pred)\n",
    "\n",
    "    print(cm)\n",
    "\n",
    "    # Show confusion matrix in a separate window\n",
    "    plt.matshow(cm)\n",
    "    plt.title('Confusion matrix')\n",
    "    plt.colorbar()\n",
    "    plt.ylabel('True label')\n",
    "    plt.xlabel('Predicted label')\n",
    "    plt.show()"
   ]
  },
  {
   "cell_type": "code",
   "execution_count": 24,
   "metadata": {},
   "outputs": [
    {
     "name": "stdout",
     "output_type": "stream",
     "text": [
      "[[159200    907]\n",
      " [  2344 157227]]\n"
     ]
    },
    {
     "data": {
      "image/png": "[encoded data removed]",
      "text/plain": [
       "<matplotlib.figure.Figure at 0x110999710>"
      ]
     },
     "metadata": {},
     "output_type": "display_data"
    }
   ],
   "source": [
    "plot_confusion_matrix(y_train_true_list[0], y_train_pred_list[0])"
   ]
  },
  {
   "cell_type": "code",
   "execution_count": 25,
   "metadata": {},
   "outputs": [
    {
     "name": "stdout",
     "output_type": "stream",
     "text": [
      "[[33796  5896]\n",
      " [ 6501 33727]]\n"
     ]
    },
    {
     "data": {
      "image/png": "[encoded data removed]",
      "text/plain": [
       "<matplotlib.figure.Figure at 0x110a86160>"
      ]
     },
     "metadata": {},
     "output_type": "display_data"
    }
   ],
   "source": [
    "plot_confusion_matrix(y_test_true_list[0], y_test_pred_list[0])"
   ]
  },
  {
   "cell_type": "markdown",
   "metadata": {},
   "source": [
    "#### 6.2 AUC"
   ]
  },
  {
   "cell_type": "code",
   "execution_count": 31,
   "metadata": {},
   "outputs": [
    {
     "name": "stdout",
     "output_type": "stream",
     "text": [
      "Area Under Curve (AUC) of the Logistic Regression is: 0.844292500013612\n"
     ]
    }
   ],
   "source": [
    "print(\"Area Under Curve (AUC) of the Logistic Regression is: {}\".format(roc_auc_score(y_test_true_list[4], y_test_pred_list[4])))"
   ]
  },
  {
   "cell_type": "markdown",
   "metadata": {},
   "source": [
    "#### 6.3 Classification report"
   ]
  },
  {
   "cell_type": "code",
   "execution_count": 27,
   "metadata": {},
   "outputs": [
    {
     "name": "stdout",
     "output_type": "stream",
     "text": [
      "             precision    recall  f1-score   support\n",
      "\n",
      "        0.0       0.84      0.85      0.85     39692\n",
      "        1.0       0.85      0.84      0.84     40228\n",
      "\n",
      "avg / total       0.84      0.84      0.84     79920\n",
      "\n"
     ]
    }
   ],
   "source": [
    "print(classification_report(y_test_true_list[0], y_test_pred_list[0]))"
   ]
  },
  {
   "cell_type": "markdown",
   "metadata": {},
   "source": [
    "#### 6.4 Plot ROC curve"
   ]
  },
  {
   "cell_type": "code",
   "execution_count": 28,
   "metadata": {
    "collapsed": true
   },
   "outputs": [],
   "source": [
    "# Make predictions of the probability to be \"positive\"/\"churn\"/\"1\", as compared to \"negative\"/\"not churn\"/\"0\"\n",
    "X_test = cv_feature[0][1]\n",
    "y_test_pred_proba = model.predict_proba(X_test)[:,1]\n",
    "y_test = y_test_true_list[0]\n",
    "fpr, tpr, thresholds = roc_curve(y_test, y_test_pred_proba)"
   ]
  },
  {
   "cell_type": "code",
   "execution_count": 29,
   "metadata": {},
   "outputs": [
    {
     "data": {
      "image/png": "[encoded data removed]",
      "text/plain": [
       "<matplotlib.figure.Figure at 0x110c51470>"
      ]
     },
     "metadata": {},
     "output_type": "display_data"
    }
   ],
   "source": [
    "# plot TPR against FPR\n",
    "plt.plot(fpr, tpr, color='red')\n",
    "\n",
    "# plot 45 degree line\n",
    "xx = np.linspace(0, 1.0, 20)\n",
    "plt.plot(xx, xx, color='blue')\n",
    "\n",
    "plt.xlabel(\"False Positive Rate\")\n",
    "plt.ylabel(\"True Positive Rate\")\n",
    "plt.title(\"ROC\")\n",
    "\n",
    "plt.show()"
   ]
  },
  {
   "cell_type": "code",
   "execution_count": 33,
   "metadata": {},
   "outputs": [
    {
     "data": {
      "text/plain": [
       "RandomForestClassifier(bootstrap=True, class_weight=None, criterion='gini',\n",
       "            max_depth=None, max_features='auto', max_leaf_nodes=None,\n",
       "            min_impurity_decrease=0.0, min_impurity_split=None,\n",
       "            min_samples_leaf=1, min_samples_split=2,\n",
       "            min_weight_fraction_leaf=0.0, n_estimators=10, n_jobs=-1,\n",
       "            oob_score=False, random_state=1129, verbose=0,\n",
       "            warm_start=False)"
      ]
     },
     "execution_count": 33,
     "metadata": {},
     "output_type": "execute_result"
    }
   ],
   "source": [
    "model"
   ]
  },
  {
   "cell_type": "code",
   "execution_count": null,
   "metadata": {
    "collapsed": true
   },
   "outputs": [],
   "source": []
  }
 ],
 "metadata": {
  "kernelspec": {
   "display_name": "Python 3",
   "language": "python",
   "name": "python3"
  },
  "language_info": {
   "codemirror_mode": {
    "name": "ipython",
    "version": 3
   },
   "file_extension": ".py",
   "mimetype": "text/x-python",
   "name": "python",
   "nbconvert_exporter": "python",
   "pygments_lexer": "ipython3",
   "version": "3.6.1"
  }
 },
 "nbformat": 4,
 "nbformat_minor": 2
}
