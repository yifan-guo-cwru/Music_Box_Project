{
 "cells": [
  {
   "cell_type": "code",
   "execution_count": 1,
   "metadata": {
    "collapsed": true
   },
   "outputs": [],
   "source": [
    "import numpy as np\n",
    "import pandas as pd\n",
    "import matplotlib.pyplot as plt\n",
    "\n",
    "% matplotlib inline\n",
    "# Always make it pretty.\n",
    "plt.style.use('ggplot')"
   ]
  },
  {
   "cell_type": "code",
   "execution_count": 2,
   "metadata": {
    "collapsed": true
   },
   "outputs": [],
   "source": [
    "# Load data from file\n",
    "df = pd.read_csv('churn.csv')"
   ]
  },
  {
   "cell_type": "code",
   "execution_count": 3,
   "metadata": {},
   "outputs": [
    {
     "name": "stdout",
     "output_type": "stream",
     "text": [
      "199799\n",
      "199799\n"
     ]
    }
   ],
   "source": [
    "# test whether it has been balanced \n",
    "print(df[df.target == 0.0].uid.count())\n",
    "print(df[df.target == 1.0].uid.count())"
   ]
  },
  {
   "cell_type": "markdown",
   "metadata": {},
   "source": [
    "## Build Neural Network Model"
   ]
  },
  {
   "cell_type": "markdown",
   "metadata": {},
   "source": [
    "### 1. Define Features and Target"
   ]
  },
  {
   "cell_type": "code",
   "execution_count": 4,
   "metadata": {
    "collapsed": true
   },
   "outputs": [],
   "source": [
    "selected_features = df.columns.tolist()\n",
    "selected_features.remove('target')\n",
    "selected_features.remove('uid')\n",
    "target = 'target'"
   ]
  },
  {
   "cell_type": "code",
   "execution_count": 5,
   "metadata": {},
   "outputs": [
    {
     "name": "stdout",
     "output_type": "stream",
     "text": [
      "(399598, 11)\n",
      "(399598,)\n"
     ]
    }
   ],
   "source": [
    "X = df[selected_features].values\n",
    "y = df['target'].values\n",
    "print(X.shape)\n",
    "print(y.shape)"
   ]
  },
  {
   "cell_type": "markdown",
   "metadata": {
    "collapsed": true
   },
   "source": [
    "### 2. Use cross validation to split the data into 5-fold cv"
   ]
  },
  {
   "cell_type": "code",
   "execution_count": 6,
   "metadata": {},
   "outputs": [
    {
     "name": "stdout",
     "output_type": "stream",
     "text": [
      "KFold(n_splits=5, random_state=1129, shuffle=True)\n"
     ]
    }
   ],
   "source": [
    "from sklearn.model_selection import KFold\n",
    "kf = KFold(n_splits=5, shuffle = True, random_state = 1129)\n",
    "print(kf)\n",
    "\n",
    "cv_feature = []\n",
    "cv_traget = []\n",
    "for train_index, test_index in kf.split(X):\n",
    "    X_train, X_test = X[train_index], X[test_index]\n",
    "    y_train, y_test = y[train_index], y[test_index]\n",
    "    cv_feature.append([X_train, X_test])\n",
    "    cv_traget.append([y_train, y_test])"
   ]
  },
  {
   "cell_type": "markdown",
   "metadata": {},
   "source": [
    "### 3.Fit a Neural Network model using keras"
   ]
  },
  {
   "cell_type": "code",
   "execution_count": 7,
   "metadata": {},
   "outputs": [
    {
     "name": "stderr",
     "output_type": "stream",
     "text": [
      "Using TensorFlow backend.\n"
     ]
    }
   ],
   "source": [
    "from keras.models import Sequential\n",
    "from keras.layers import Dense\n",
    "\n",
    "def nn_model():\n",
    "    # create model\n",
    "    model = Sequential()\n",
    "    model.add(Dense(12, input_dim=X.shape[1], activation='relu'))\n",
    "    model.add(Dense(4, activation='relu'))\n",
    "    model.add(Dense(1, activation='sigmoid'))\n",
    "    return model"
   ]
  },
  {
   "cell_type": "code",
   "execution_count": 10,
   "metadata": {},
   "outputs": [
    {
     "name": "stdout",
     "output_type": "stream",
     "text": [
      "Epoch 1/10\n",
      "319678/319678 [==============================] - 23s - loss: 0.4973 - acc: 0.8065    \n",
      "Epoch 2/10\n",
      "319678/319678 [==============================] - 22s - loss: 0.4220 - acc: 0.8119    \n",
      "Epoch 3/10\n",
      "319678/319678 [==============================] - 22s - loss: 0.4191 - acc: 0.8131    \n",
      "Epoch 4/10\n",
      "319678/319678 [==============================] - 22s - loss: 0.4154 - acc: 0.8143    \n",
      "Epoch 5/10\n",
      "319678/319678 [==============================] - 22s - loss: 0.4133 - acc: 0.8151    \n",
      "Epoch 6/10\n",
      "319678/319678 [==============================] - 22s - loss: 0.4121 - acc: 0.8153    \n",
      "Epoch 7/10\n",
      "319678/319678 [==============================] - 22s - loss: 0.4116 - acc: 0.8160    \n",
      "Epoch 8/10\n",
      "319678/319678 [==============================] - 22s - loss: 0.4105 - acc: 0.8163    \n",
      "Epoch 9/10\n",
      "319678/319678 [==============================] - 22s - loss: 0.4105 - acc: 0.8162    \n",
      "Epoch 10/10\n",
      "319678/319678 [==============================] - 22s - loss: 0.4099 - acc: 0.8164    \n",
      "Epoch 1/10\n",
      "319678/319678 [==============================] - 22s - loss: 0.4095 - acc: 0.8172    \n",
      "Epoch 2/10\n",
      "319678/319678 [==============================] - 22s - loss: 0.4090 - acc: 0.8169    \n",
      "Epoch 3/10\n",
      "319678/319678 [==============================] - 22s - loss: 0.4086 - acc: 0.8170    \n",
      "Epoch 4/10\n",
      "319678/319678 [==============================] - 23s - loss: 0.4085 - acc: 0.8172    \n",
      "Epoch 5/10\n",
      "319678/319678 [==============================] - 22s - loss: 0.4082 - acc: 0.8178    \n",
      "Epoch 6/10\n",
      "319678/319678 [==============================] - 22s - loss: 0.4077 - acc: 0.8174    \n",
      "Epoch 7/10\n",
      "319678/319678 [==============================] - 22s - loss: 0.4075 - acc: 0.8177    \n",
      "Epoch 8/10\n",
      "319678/319678 [==============================] - 22s - loss: 0.4071 - acc: 0.8180    \n",
      "Epoch 9/10\n",
      "319678/319678 [==============================] - 22s - loss: 0.4067 - acc: 0.8182    \n",
      "Epoch 10/10\n",
      "319678/319678 [==============================] - 22s - loss: 0.4065 - acc: 0.8188    \n",
      "Epoch 1/10\n",
      "319678/319678 [==============================] - 22s - loss: 0.4061 - acc: 0.8194    \n",
      "Epoch 2/10\n",
      "319678/319678 [==============================] - 22s - loss: 0.4058 - acc: 0.8193    \n",
      "Epoch 3/10\n",
      "319678/319678 [==============================] - 22s - loss: 0.4058 - acc: 0.8195    \n",
      "Epoch 4/10\n",
      "319678/319678 [==============================] - 22s - loss: 0.4058 - acc: 0.8193    \n",
      "Epoch 5/10\n",
      "319678/319678 [==============================] - 22s - loss: 0.4058 - acc: 0.8195    \n",
      "Epoch 6/10\n",
      "319678/319678 [==============================] - 22s - loss: 0.4054 - acc: 0.8194    \n",
      "Epoch 7/10\n",
      "319678/319678 [==============================] - 22s - loss: 0.4054 - acc: 0.8195    \n",
      "Epoch 8/10\n",
      "319678/319678 [==============================] - 22s - loss: 0.4052 - acc: 0.8196    \n",
      "Epoch 9/10\n",
      "319678/319678 [==============================] - 22s - loss: 0.4054 - acc: 0.8197    \n",
      "Epoch 10/10\n",
      "319678/319678 [==============================] - 22s - loss: 0.4053 - acc: 0.8196    \n",
      "Epoch 1/10\n",
      "319679/319679 [==============================] - 22s - loss: 0.4068 - acc: 0.8184    \n",
      "Epoch 2/10\n",
      "319679/319679 [==============================] - 22s - loss: 0.4065 - acc: 0.8182    \n",
      "Epoch 3/10\n",
      "319679/319679 [==============================] - 22s - loss: 0.4065 - acc: 0.8186    \n",
      "Epoch 4/10\n",
      "319679/319679 [==============================] - 22s - loss: 0.4066 - acc: 0.8183    \n",
      "Epoch 5/10\n",
      "319679/319679 [==============================] - 22s - loss: 0.4065 - acc: 0.8185    \n",
      "Epoch 6/10\n",
      "319679/319679 [==============================] - 24s - loss: 0.4066 - acc: 0.8186    \n",
      "Epoch 7/10\n",
      "319679/319679 [==============================] - 22s - loss: 0.4064 - acc: 0.8187    \n",
      "Epoch 8/10\n",
      "319679/319679 [==============================] - 22s - loss: 0.4064 - acc: 0.8182    \n",
      "Epoch 9/10\n",
      "319679/319679 [==============================] - 22s - loss: 0.4064 - acc: 0.8183    \n",
      "Epoch 10/10\n",
      "319679/319679 [==============================] - 23s - loss: 0.4064 - acc: 0.8185    \n",
      "Epoch 1/10\n",
      "319679/319679 [==============================] - 24s - loss: 0.4051 - acc: 0.8195    \n",
      "Epoch 2/10\n",
      "319679/319679 [==============================] - 23s - loss: 0.4051 - acc: 0.8191    \n",
      "Epoch 3/10\n",
      "319679/319679 [==============================] - 25s - loss: 0.4050 - acc: 0.8194    \n",
      "Epoch 4/10\n",
      "319679/319679 [==============================] - 24s - loss: 0.4050 - acc: 0.8193    \n",
      "Epoch 5/10\n",
      "319679/319679 [==============================] - 28s - loss: 0.4050 - acc: 0.8195    \n",
      "Epoch 6/10\n",
      "319679/319679 [==============================] - 23s - loss: 0.4048 - acc: 0.8194    \n",
      "Epoch 7/10\n",
      "319679/319679 [==============================] - 23s - loss: 0.4048 - acc: 0.8198    \n",
      "Epoch 8/10\n",
      "319679/319679 [==============================] - 24s - loss: 0.4048 - acc: 0.8195    \n",
      "Epoch 9/10\n",
      "319679/319679 [==============================] - 23s - loss: 0.4048 - acc: 0.8190    \n",
      "Epoch 10/10\n",
      "319679/319679 [==============================] - 24s - loss: 0.4048 - acc: 0.8195    \n"
     ]
    }
   ],
   "source": [
    "# Load scikit's random forest classifier library\n",
    "from sklearn.ensemble import RandomForestClassifier\n",
    "\n",
    "# store the prediction result \n",
    "y_train_pred_list = []\n",
    "y_test_pred_list = []\n",
    "y_train_true_list = []\n",
    "y_test_true_list = []\n",
    "\n",
    "# Create a neural network Classifier. By convention, clf means 'Classifier'\n",
    "model = nn_model()\n",
    "\n",
    "# Compile model\n",
    "model.compile(loss='binary_crossentropy', optimizer='adam', metrics=['accuracy'])\n",
    "\n",
    "# cv_feature shape: [[(1)],[(2)],[(3)],[(4)],[(5)]], (i) = X_train, X_test, i = 1,2,3,4,5.\n",
    "# cv_traget shape: [[(1)],[(2)],[(3)],[(4)],[(5)]], (i) = y_train, y_test, i = 1,2,3,4,5.\n",
    "\n",
    "for index in range(len(cv_feature)):\n",
    "    \n",
    "    # define the X_train, y_train, X_test, y_test\n",
    "    X_train = cv_feature[index][0]\n",
    "    y_train = cv_traget[index][0]\n",
    "    X_test = cv_feature[index][1]\n",
    "    y_test = cv_traget[index][1]\n",
    "    \n",
    "    # Fit a model by providing X and y from training set\n",
    "    model.fit(X_train, y_train, epochs=10, batch_size=32)\n",
    "\n",
    "    # Make prediction on the training data\n",
    "    y_train_pred = model.predict(X_train)\n",
    "    y_train_pred_rounded = [round(x[0]) for x in y_train_pred]\n",
    "\n",
    "    # Make predictions on test data\n",
    "    y_test_pred = model.predict(X_test)\n",
    "    y_test_pred_rounded = [round(x[0]) for x in y_test_pred]\n",
    "    \n",
    "    # store the result\n",
    "    y_train_pred_list.append(y_train_pred_rounded)\n",
    "    y_test_pred_list.append(y_test_pred_rounded)\n",
    "    y_train_true_list.append(y_train)\n",
    "    y_test_true_list.append(y_test)"
   ]
  },
  {
   "cell_type": "markdown",
   "metadata": {},
   "source": [
    "### 4. Calculate the metric scores for the model"
   ]
  },
  {
   "cell_type": "code",
   "execution_count": 11,
   "metadata": {
    "collapsed": true
   },
   "outputs": [],
   "source": [
    "# Import metrics functions from sklearn\n",
    "from sklearn.metrics import precision_score, accuracy_score, recall_score, f1_score, roc_auc_score"
   ]
  },
  {
   "cell_type": "code",
   "execution_count": 12,
   "metadata": {
    "collapsed": true
   },
   "outputs": [],
   "source": [
    "# Helper method to print metric scores\n",
    "def print_results(y_true, y_pred):\n",
    "    a, p, r, f = do_metric(y_true, y_pred)\n",
    "    print(\"Accuracy of the Logistic Regression is: {}\".format(a))\n",
    "    print(\"Precision of the Logistic Regression is: {}\".format(p))\n",
    "    print(\"Recall of the Logistic Regression is: {}\".format(r))\n",
    "    print(\"f1-score of the Logistic Regression is: {}\".format(f))\n",
    "\n",
    "def do_metric(y_true, y_pred):\n",
    "    a_list = []\n",
    "    p_list = []\n",
    "    r_list = []\n",
    "    f_list = []\n",
    "    for index in range(len(y_true)):\n",
    "        a_list.append(accuracy_score(y_true[index], y_pred[index]))\n",
    "        p_list.append(precision_score(y_true[index], y_pred[index]))\n",
    "        r_list.append(recall_score(y_true[index], y_pred[index]))\n",
    "        f_list.append(f1_score(y_true[index], y_pred[index]))\n",
    "    return (np.mean(np.array(a_list)), np.mean(np.array(p_list)), np.mean(np.array(r_list)), np.mean(np.array(f_list)))"
   ]
  },
  {
   "cell_type": "code",
   "execution_count": 13,
   "metadata": {},
   "outputs": [
    {
     "name": "stdout",
     "output_type": "stream",
     "text": [
      "Training set scores:\n",
      "Accuracy of the Logistic Regression is: 0.8184844508399906\n",
      "Precision of the Logistic Regression is: 0.8186052144957687\n",
      "Recall of the Logistic Regression is: 0.8184397567714597\n",
      "f1-score of the Logistic Regression is: 0.8184517115663732\n"
     ]
    }
   ],
   "source": [
    "print(\"Training set scores:\")\n",
    "print_results(y_train_true_list, y_train_pred_list)"
   ]
  },
  {
   "cell_type": "code",
   "execution_count": 14,
   "metadata": {},
   "outputs": [
    {
     "name": "stdout",
     "output_type": "stream",
     "text": [
      "Test set scores:\n",
      "Accuracy of the Logistic Regression is: 0.8187628703103436\n",
      "Precision of the Logistic Regression is: 0.8186411708513912\n",
      "Recall of the Logistic Regression is: 0.8191275914342686\n",
      "f1-score of the Logistic Regression is: 0.8188131687074975\n"
     ]
    }
   ],
   "source": [
    "print(\"Test set scores:\")\n",
    "print_results(y_test_true_list, y_test_pred_list)"
   ]
  },
  {
   "cell_type": "markdown",
   "metadata": {},
   "source": [
    "### 6. More Model Evaluation"
   ]
  },
  {
   "cell_type": "markdown",
   "metadata": {},
   "source": [
    "#### 6.1 Confusion Matrix"
   ]
  },
  {
   "cell_type": "code",
   "execution_count": 15,
   "metadata": {
    "collapsed": true
   },
   "outputs": [],
   "source": [
    "from sklearn.metrics import confusion_matrix, classification_report, roc_curve"
   ]
  },
  {
   "cell_type": "code",
   "execution_count": 16,
   "metadata": {},
   "outputs": [
    {
     "data": {
      "text/plain": [
       "array([[131734,  28373],\n",
       "       [ 30452, 129119]])"
      ]
     },
     "execution_count": 16,
     "metadata": {},
     "output_type": "execute_result"
    }
   ],
   "source": [
    "confusion_matrix(y_train_true_list[0], y_train_pred_list[0])"
   ]
  },
  {
   "cell_type": "code",
   "execution_count": 17,
   "metadata": {
    "collapsed": true
   },
   "outputs": [],
   "source": [
    "# Helper method to plot confusion matrix\n",
    "def plot_confusion_matrix(y_true, y_pred):\n",
    "    '''\n",
    "    Code from sklearn example.\n",
    "    '''\n",
    "    \n",
    "    cm = confusion_matrix(y_true, y_pred)\n",
    "\n",
    "    print(cm)\n",
    "\n",
    "    # Show confusion matrix in a separate window\n",
    "    plt.matshow(cm)\n",
    "    plt.title('Confusion matrix')\n",
    "    plt.colorbar()\n",
    "    plt.ylabel('True label')\n",
    "    plt.xlabel('Predicted label')\n",
    "    plt.show()"
   ]
  },
  {
   "cell_type": "code",
   "execution_count": 18,
   "metadata": {},
   "outputs": [
    {
     "name": "stdout",
     "output_type": "stream",
     "text": [
      "[[131734  28373]\n",
      " [ 30452 129119]]\n"
     ]
    },
    {
     "data": {
      "image/png": "[encoded data removed]",
      "text/plain": [
       "<matplotlib.figure.Figure at 0x1137827b8>"
      ]
     },
     "metadata": {},
     "output_type": "display_data"
    }
   ],
   "source": [
    "plot_confusion_matrix(y_train_true_list[0], y_train_pred_list[0])"
   ]
  },
  {
   "cell_type": "code",
   "execution_count": 19,
   "metadata": {},
   "outputs": [
    {
     "name": "stdout",
     "output_type": "stream",
     "text": [
      "[[32654  7038]\n",
      " [ 7670 32558]]\n"
     ]
    },
    {
     "data": {
      "image/png": "[encoded data removed]",
      "text/plain": [
       "<matplotlib.figure.Figure at 0x1c3566f668>"
      ]
     },
     "metadata": {},
     "output_type": "display_data"
    }
   ],
   "source": [
    "plot_confusion_matrix(y_test_true_list[0], y_test_pred_list[0])"
   ]
  },
  {
   "cell_type": "markdown",
   "metadata": {},
   "source": [
    "#### 6.2 AUC"
   ]
  },
  {
   "cell_type": "code",
   "execution_count": 20,
   "metadata": {},
   "outputs": [
    {
     "name": "stdout",
     "output_type": "stream",
     "text": [
      "Area Under Curve (AUC) of the Logistic Regression is: 0.8197873720211359\n"
     ]
    }
   ],
   "source": [
    "print(\"Area Under Curve (AUC) of the Logistic Regression is: {}\".format(roc_auc_score(y_test_true_list[4], y_test_pred_list[4])))"
   ]
  },
  {
   "cell_type": "markdown",
   "metadata": {},
   "source": [
    "#### 6.3 Classification report"
   ]
  },
  {
   "cell_type": "code",
   "execution_count": 21,
   "metadata": {},
   "outputs": [
    {
     "name": "stdout",
     "output_type": "stream",
     "text": [
      "             precision    recall  f1-score   support\n",
      "\n",
      "        0.0       0.81      0.82      0.82     39692\n",
      "        1.0       0.82      0.81      0.82     40228\n",
      "\n",
      "avg / total       0.82      0.82      0.82     79920\n",
      "\n"
     ]
    }
   ],
   "source": [
    "print(classification_report(y_test_true_list[0], y_test_pred_list[0]))"
   ]
  },
  {
   "cell_type": "markdown",
   "metadata": {},
   "source": [
    "#### 6.4 Plot ROC curve"
   ]
  },
  {
   "cell_type": "code",
   "execution_count": 23,
   "metadata": {},
   "outputs": [
    {
     "name": "stdout",
     "output_type": "stream",
     "text": [
      "78528/79920 [============================>.] - ETA: 0s"
     ]
    }
   ],
   "source": [
    "# Make predictions of the probability to be \"positive\"/\"churn\"/\"1\", as compared to \"negative\"/\"not churn\"/\"0\"\n",
    "X_test = cv_feature[0][1]\n",
    "y_test_pred_proba = model.predict_proba(X_test)\n",
    "y_test = y_test_true_list[0]\n",
    "fpr, tpr, thresholds = roc_curve(y_test, y_test_pred_proba)"
   ]
  },
  {
   "cell_type": "code",
   "execution_count": 24,
   "metadata": {},
   "outputs": [
    {
     "data": {
      "image/png": "[encoded data removed]",
      "text/plain": [
       "<matplotlib.figure.Figure at 0x1c3f9499b0>"
      ]
     },
     "metadata": {},
     "output_type": "display_data"
    }
   ],
   "source": [
    "# plot TPR against FPR\n",
    "plt.plot(fpr, tpr, color='red')\n",
    "\n",
    "# plot 45 degree line\n",
    "xx = np.linspace(0, 1.0, 20)\n",
    "plt.plot(xx, xx, color='blue')\n",
    "\n",
    "plt.xlabel(\"False Positive Rate\")\n",
    "plt.ylabel(\"True Positive Rate\")\n",
    "plt.title(\"ROC\")\n",
    "\n",
    "plt.show()"
   ]
  },
  {
   "cell_type": "code",
   "execution_count": null,
   "metadata": {
    "collapsed": true
   },
   "outputs": [],
   "source": []
  }
 ],
 "metadata": {
  "kernelspec": {
   "display_name": "Python 3",
   "language": "python",
   "name": "python3"
  },
  "language_info": {
   "codemirror_mode": {
    "name": "ipython",
    "version": 3
   },
   "file_extension": ".py",
   "mimetype": "text/x-python",
   "name": "python",
   "nbconvert_exporter": "python",
   "pygments_lexer": "ipython3",
   "version": "3.6.1"
  }
 },
 "nbformat": 4,
 "nbformat_minor": 2
}
