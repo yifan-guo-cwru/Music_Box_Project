{
 "cells": [
  {
   "cell_type": "code",
   "execution_count": 90,
   "metadata": {
    "collapsed": true
   },
   "outputs": [],
   "source": [
    "import numpy as np\n",
    "import pandas as pd\n",
    "import matplotlib.pyplot as plt\n",
    "\n",
    "% matplotlib inline\n",
    "# Always make it pretty.\n",
    "plt.style.use('ggplot')"
   ]
  },
  {
   "cell_type": "code",
   "execution_count": 91,
   "metadata": {
    "collapsed": true
   },
   "outputs": [],
   "source": [
    "# Load data from file\n",
    "df = pd.read_csv('churn.csv')"
   ]
  },
  {
   "cell_type": "code",
   "execution_count": 92,
   "metadata": {},
   "outputs": [
    {
     "name": "stdout",
     "output_type": "stream",
     "text": [
      "199799\n",
      "199799\n"
     ]
    }
   ],
   "source": [
    "# test whether it has been balanced \n",
    "print(df[df.target == 0.0].uid.count())\n",
    "print(df[df.target == 1.0].uid.count())"
   ]
  },
  {
   "cell_type": "markdown",
   "metadata": {},
   "source": [
    "## Build Random Forest Model"
   ]
  },
  {
   "cell_type": "markdown",
   "metadata": {},
   "source": [
    "### 1. Define Features and Target"
   ]
  },
  {
   "cell_type": "code",
   "execution_count": 70,
   "metadata": {
    "collapsed": true
   },
   "outputs": [],
   "source": [
    "selected_features = df.columns.tolist()\n",
    "selected_features.remove('target')\n",
    "selected_features.remove('uid')\n",
    "target = 'target'"
   ]
  },
  {
   "cell_type": "code",
   "execution_count": 71,
   "metadata": {},
   "outputs": [
    {
     "name": "stdout",
     "output_type": "stream",
     "text": [
      "(399598, 11)\n",
      "(399598,)\n"
     ]
    }
   ],
   "source": [
    "X = df[selected_features].values\n",
    "y = df['target'].values\n",
    "print(X.shape)\n",
    "print(y.shape)"
   ]
  },
  {
   "cell_type": "markdown",
   "metadata": {
    "collapsed": true
   },
   "source": [
    "### 2. Use cross validation to split the data into 5-fold cv"
   ]
  },
  {
   "cell_type": "code",
   "execution_count": 72,
   "metadata": {},
   "outputs": [
    {
     "name": "stdout",
     "output_type": "stream",
     "text": [
      "KFold(n_splits=5, random_state=1129, shuffle=True)\n"
     ]
    }
   ],
   "source": [
    "from sklearn.model_selection import KFold\n",
    "kf = KFold(n_splits=5, shuffle = True, random_state = 1129)\n",
    "print(kf)\n",
    "\n",
    "cv_feature = []\n",
    "cv_traget = []\n",
    "for train_index, test_index in kf.split(X):\n",
    "    X_train, X_test = X[train_index], X[test_index]\n",
    "    y_train, y_test = y[train_index], y[test_index]\n",
    "    cv_feature.append([X_train, X_test])\n",
    "    cv_traget.append([y_train, y_test])"
   ]
  },
  {
   "cell_type": "markdown",
   "metadata": {},
   "source": [
    "### 3.Fit a Random Forest model using sklearn"
   ]
  },
  {
   "cell_type": "code",
   "execution_count": 73,
   "metadata": {
    "collapsed": true
   },
   "outputs": [],
   "source": [
    "# Load scikit's random forest classifier library\n",
    "from sklearn.ensemble import RandomForestClassifier\n",
    "\n",
    "# store the prediction result \n",
    "y_train_pred_list = []\n",
    "y_test_pred_list = []\n",
    "y_train_true_list = []\n",
    "y_test_true_list = []\n",
    "\n",
    "# Create a random forest Classifier. By convention, clf means 'Classifier'\n",
    "model = RandomForestClassifier(max_depth = 30, n_estimators = 300, n_jobs=-1, random_state=1129)\n",
    "\n",
    "# cv_feature shape: [[(1)],[(2)],[(3)],[(4)],[(5)]], (i) = X_train, X_test, i = 1,2,3,4,5.\n",
    "# cv_traget shape: [[(1)],[(2)],[(3)],[(4)],[(5)]], (i) = y_train, y_test, i = 1,2,3,4,5.\n",
    "\n",
    "for index in range(len(cv_feature)):\n",
    "    \n",
    "    # define the X_train, y_train, X_test, y_test\n",
    "    X_train = cv_feature[index][0]\n",
    "    y_train = cv_traget[index][0]\n",
    "    X_test = cv_feature[index][1]\n",
    "    y_test = cv_traget[index][1]\n",
    "    \n",
    "    # Fit a model by providing X and y from training set\n",
    "    model.fit(X_train, y_train)\n",
    "\n",
    "    # Make prediction on the training data\n",
    "    y_train_pred = model.predict(X_train)\n",
    "\n",
    "    # Make predictions on test data\n",
    "    y_test_pred = model.predict(X_test)\n",
    "    \n",
    "    # store the result\n",
    "    y_train_pred_list.append(y_train_pred)\n",
    "    y_test_pred_list.append(y_test_pred)\n",
    "    y_train_true_list.append(y_train)\n",
    "    y_test_true_list.append(y_test)"
   ]
  },
  {
   "cell_type": "markdown",
   "metadata": {},
   "source": [
    "### 4. Calculate the metric scores for the model"
   ]
  },
  {
   "cell_type": "code",
   "execution_count": 74,
   "metadata": {
    "collapsed": true
   },
   "outputs": [],
   "source": [
    "# Import metrics functions from sklearn\n",
    "from sklearn.metrics import precision_score, accuracy_score, recall_score, f1_score, roc_auc_score"
   ]
  },
  {
   "cell_type": "code",
   "execution_count": 75,
   "metadata": {
    "collapsed": true
   },
   "outputs": [],
   "source": [
    "# Helper method to print metric scores\n",
    "def print_results(y_true, y_pred):\n",
    "    a, p, r, f = do_metric(y_true, y_pred)\n",
    "    print(\"Accuracy of the Logistic Regression is: {}\".format(a))\n",
    "    print(\"Precision of the Logistic Regression is: {}\".format(p))\n",
    "    print(\"Recall of the Logistic Regression is: {}\".format(r))\n",
    "    print(\"f1-score of the Logistic Regression is: {}\".format(f))\n",
    "\n",
    "def do_metric(y_true, y_pred):\n",
    "    a_list = []\n",
    "    p_list = []\n",
    "    r_list = []\n",
    "    f_list = []\n",
    "    for index in range(len(y_true)):\n",
    "        a_list.append(accuracy_score(y_true[index], y_pred[index]))\n",
    "        p_list.append(precision_score(y_true[index], y_pred[index]))\n",
    "        r_list.append(recall_score(y_true[index], y_pred[index]))\n",
    "        f_list.append(f1_score(y_true[index], y_pred[index]))\n",
    "    return (np.mean(np.array(a_list)), np.mean(np.array(p_list)), np.mean(np.array(r_list)), np.mean(np.array(f_list)))"
   ]
  },
  {
   "cell_type": "code",
   "execution_count": 76,
   "metadata": {},
   "outputs": [
    {
     "name": "stdout",
     "output_type": "stream",
     "text": [
      "Training set scores:\n",
      "Accuracy of the Logistic Regression is: 0.9939995945369711\n",
      "Precision of the Logistic Regression is: 0.9893758563931268\n",
      "Recall of the Logistic Regression is: 0.9987235652319326\n",
      "f1-score of the Logistic Regression is: 0.9940277145042176\n"
     ]
    }
   ],
   "source": [
    "print(\"Training set scores:\")\n",
    "print_results(y_train_true_list, y_train_pred_list)"
   ]
  },
  {
   "cell_type": "code",
   "execution_count": 77,
   "metadata": {},
   "outputs": [
    {
     "name": "stdout",
     "output_type": "stream",
     "text": [
      "Test set scores:\n",
      "Accuracy of the Logistic Regression is: 0.8450467742420532\n",
      "Precision of the Logistic Regression is: 0.8469973177481688\n",
      "Recall of the Logistic Regression is: 0.8422436603023176\n",
      "f1-score of the Logistic Regression is: 0.8446120026311725\n"
     ]
    }
   ],
   "source": [
    "print(\"Test set scores:\")\n",
    "print_results(y_test_true_list, y_test_pred_list)"
   ]
  },
  {
   "cell_type": "markdown",
   "metadata": {},
   "source": [
    "### 5. Estimated Coefficients"
   ]
  },
  {
   "cell_type": "code",
   "execution_count": 78,
   "metadata": {},
   "outputs": [
    {
     "data": {
      "text/html": [
       "<div>\n",
       "<style scoped>\n",
       "    .dataframe tbody tr th:only-of-type {\n",
       "        vertical-align: middle;\n",
       "    }\n",
       "\n",
       "    .dataframe tbody tr th {\n",
       "        vertical-align: top;\n",
       "    }\n",
       "\n",
       "    .dataframe thead th {\n",
       "        text-align: right;\n",
       "    }\n",
       "</style>\n",
       "<table border=\"1\" class=\"dataframe\">\n",
       "  <thead>\n",
       "    <tr style=\"text-align: right;\">\n",
       "      <th></th>\n",
       "      <th>feature</th>\n",
       "      <th>importance score</th>\n",
       "    </tr>\n",
       "  </thead>\n",
       "  <tbody>\n",
       "    <tr>\n",
       "      <th>10</th>\n",
       "      <td>last 30 days play time percentage of song length</td>\n",
       "      <td>0.227786</td>\n",
       "    </tr>\n",
       "    <tr>\n",
       "      <th>9</th>\n",
       "      <td>last 14 days play time percentage of song length</td>\n",
       "      <td>0.188209</td>\n",
       "    </tr>\n",
       "    <tr>\n",
       "      <th>5</th>\n",
       "      <td>recency on play log</td>\n",
       "      <td>0.161377</td>\n",
       "    </tr>\n",
       "    <tr>\n",
       "      <th>3</th>\n",
       "      <td>last 14 days frequency on play log</td>\n",
       "      <td>0.123090</td>\n",
       "    </tr>\n",
       "    <tr>\n",
       "      <th>4</th>\n",
       "      <td>last 30 days frequency on play log</td>\n",
       "      <td>0.099360</td>\n",
       "    </tr>\n",
       "    <tr>\n",
       "      <th>8</th>\n",
       "      <td>last 7 days play time percentage of song length</td>\n",
       "      <td>0.069342</td>\n",
       "    </tr>\n",
       "    <tr>\n",
       "      <th>2</th>\n",
       "      <td>last 7 days frequency on play log</td>\n",
       "      <td>0.062374</td>\n",
       "    </tr>\n",
       "    <tr>\n",
       "      <th>7</th>\n",
       "      <td>last 3 days play time percentage of song length</td>\n",
       "      <td>0.033005</td>\n",
       "    </tr>\n",
       "    <tr>\n",
       "      <th>1</th>\n",
       "      <td>last 3 days frequency on play log</td>\n",
       "      <td>0.024713</td>\n",
       "    </tr>\n",
       "    <tr>\n",
       "      <th>6</th>\n",
       "      <td>last 1 days play time percentage of song length</td>\n",
       "      <td>0.007516</td>\n",
       "    </tr>\n",
       "    <tr>\n",
       "      <th>0</th>\n",
       "      <td>last 1 days frequency on play log</td>\n",
       "      <td>0.003228</td>\n",
       "    </tr>\n",
       "  </tbody>\n",
       "</table>\n",
       "</div>"
      ],
      "text/plain": [
       "                                             feature  importance score\n",
       "10  last 30 days play time percentage of song length          0.227786\n",
       "9   last 14 days play time percentage of song length          0.188209\n",
       "5                                recency on play log          0.161377\n",
       "3                 last 14 days frequency on play log          0.123090\n",
       "4                 last 30 days frequency on play log          0.099360\n",
       "8    last 7 days play time percentage of song length          0.069342\n",
       "2                  last 7 days frequency on play log          0.062374\n",
       "7    last 3 days play time percentage of song length          0.033005\n",
       "1                  last 3 days frequency on play log          0.024713\n",
       "6    last 1 days play time percentage of song length          0.007516\n",
       "0                  last 1 days frequency on play log          0.003228"
      ]
     },
     "execution_count": 78,
     "metadata": {},
     "output_type": "execute_result"
    }
   ],
   "source": [
    "#View a list of the features and their importance scores\n",
    "df_coeffs = pd.DataFrame(list(zip(selected_features, model.feature_importances_))).sort_values(by=[1], ascending=False)\n",
    "df_coeffs.columns = ['feature', 'importance score']\n",
    "df_coeffs"
   ]
  },
  {
   "cell_type": "code",
   "execution_count": 79,
   "metadata": {},
   "outputs": [
    {
     "data": {
      "image/png": "[encoded data removed]",
      "text/plain": [
       "<matplotlib.figure.Figure at 0x101c122e8>"
      ]
     },
     "metadata": {},
     "output_type": "display_data"
    }
   ],
   "source": [
    "ax = df_coeffs.plot.barh()\n",
    "t = np.arange(X.shape[1])\n",
    "ax.set_yticks(t)\n",
    "ax.set_yticklabels(df_coeffs['feature'])\n",
    "plt.show()"
   ]
  },
  {
   "cell_type": "markdown",
   "metadata": {},
   "source": [
    "### 6. More Model Evaluation"
   ]
  },
  {
   "cell_type": "markdown",
   "metadata": {},
   "source": [
    "#### 6.1 Confusion Matrix"
   ]
  },
  {
   "cell_type": "code",
   "execution_count": 80,
   "metadata": {
    "collapsed": true
   },
   "outputs": [],
   "source": [
    "from sklearn.metrics import confusion_matrix, classification_report, roc_curve"
   ]
  },
  {
   "cell_type": "code",
   "execution_count": 81,
   "metadata": {},
   "outputs": [
    {
     "data": {
      "text/plain": [
       "array([[158385,   1722],\n",
       "       [   236, 159335]])"
      ]
     },
     "execution_count": 81,
     "metadata": {},
     "output_type": "execute_result"
    }
   ],
   "source": [
    "confusion_matrix(y_train_true_list[0], y_train_pred_list[0])"
   ]
  },
  {
   "cell_type": "code",
   "execution_count": 82,
   "metadata": {
    "collapsed": true
   },
   "outputs": [],
   "source": [
    "# Helper method to plot confusion matrix\n",
    "def plot_confusion_matrix(y_true, y_pred):\n",
    "    '''\n",
    "    Code from sklearn example.\n",
    "    '''\n",
    "    \n",
    "    cm = confusion_matrix(y_true, y_pred)\n",
    "\n",
    "    print(cm)\n",
    "\n",
    "    # Show confusion matrix in a separate window\n",
    "    plt.matshow(cm)\n",
    "    plt.title('Confusion matrix')\n",
    "    plt.colorbar()\n",
    "    plt.ylabel('True label')\n",
    "    plt.xlabel('Predicted label')\n",
    "    plt.show()"
   ]
  },
  {
   "cell_type": "code",
   "execution_count": 83,
   "metadata": {},
   "outputs": [
    {
     "name": "stdout",
     "output_type": "stream",
     "text": [
      "[[158385   1722]\n",
      " [   236 159335]]\n"
     ]
    },
    {
     "data": {
      "image/png": "[encoded data removed]",
      "text/plain": [
       "<matplotlib.figure.Figure at 0x1097ad1d0>"
      ]
     },
     "metadata": {},
     "output_type": "display_data"
    }
   ],
   "source": [
    "plot_confusion_matrix(y_train_true_list[0], y_train_pred_list[0])"
   ]
  },
  {
   "cell_type": "code",
   "execution_count": 84,
   "metadata": {},
   "outputs": [
    {
     "name": "stdout",
     "output_type": "stream",
     "text": [
      "[[33632  6060]\n",
      " [ 6472 33756]]\n"
     ]
    },
    {
     "data": {
      "image/png": "[encoded data removed]",
      "text/plain": [
       "<matplotlib.figure.Figure at 0x10955ada0>"
      ]
     },
     "metadata": {},
     "output_type": "display_data"
    }
   ],
   "source": [
    "plot_confusion_matrix(y_test_true_list[0], y_test_pred_list[0])"
   ]
  },
  {
   "cell_type": "markdown",
   "metadata": {},
   "source": [
    "#### 6.2 AUC"
   ]
  },
  {
   "cell_type": "code",
   "execution_count": 85,
   "metadata": {},
   "outputs": [
    {
     "name": "stdout",
     "output_type": "stream",
     "text": [
      "Area Under Curve (AUC) of the Logistic Regression is: 0.8436349260329443\n"
     ]
    }
   ],
   "source": [
    "print(\"Area Under Curve (AUC) of the Logistic Regression is: {}\".format(roc_auc_score(y_test_true_list[4], y_test_pred_list[4])))"
   ]
  },
  {
   "cell_type": "markdown",
   "metadata": {},
   "source": [
    "#### 6.3 Classification report"
   ]
  },
  {
   "cell_type": "code",
   "execution_count": 86,
   "metadata": {},
   "outputs": [
    {
     "name": "stdout",
     "output_type": "stream",
     "text": [
      "             precision    recall  f1-score   support\n",
      "\n",
      "        0.0       0.84      0.85      0.84     39692\n",
      "        1.0       0.85      0.84      0.84     40228\n",
      "\n",
      "avg / total       0.84      0.84      0.84     79920\n",
      "\n"
     ]
    }
   ],
   "source": [
    "print(classification_report(y_test_true_list[0], y_test_pred_list[0]))"
   ]
  },
  {
   "cell_type": "markdown",
   "metadata": {},
   "source": [
    "#### 6.4 Plot ROC curve"
   ]
  },
  {
   "cell_type": "code",
   "execution_count": 87,
   "metadata": {
    "collapsed": true
   },
   "outputs": [],
   "source": [
    "# Make predictions of the probability to be \"positive\"/\"churn\"/\"1\", as compared to \"negative\"/\"not churn\"/\"0\"\n",
    "X_test = cv_feature[0][1]\n",
    "y_test_pred_proba = model.predict_proba(X_test)[:,1]\n",
    "y_test = y_test_true_list[0]\n",
    "fpr, tpr, thresholds = roc_curve(y_test, y_test_pred_proba)"
   ]
  },
  {
   "cell_type": "code",
   "execution_count": 88,
   "metadata": {},
   "outputs": [
    {
     "data": {
      "image/png": "[encoded data removed]",
      "text/plain": [
       "<matplotlib.figure.Figure at 0x10b456c18>"
      ]
     },
     "metadata": {},
     "output_type": "display_data"
    }
   ],
   "source": [
    "# plot TPR against FPR\n",
    "plt.plot(fpr, tpr, color='red')\n",
    "\n",
    "# plot 45 degree line\n",
    "xx = np.linspace(0, 1.0, 20)\n",
    "plt.plot(xx, xx, color='blue')\n",
    "\n",
    "plt.xlabel(\"False Positive Rate\")\n",
    "plt.ylabel(\"True Positive Rate\")\n",
    "plt.title(\"ROC\")\n",
    "\n",
    "plt.show()"
   ]
  },
  {
   "cell_type": "code",
   "execution_count": 89,
   "metadata": {},
   "outputs": [
    {
     "data": {
      "text/plain": [
       "RandomForestClassifier(bootstrap=True, class_weight=None, criterion='gini',\n",
       "            max_depth=30, max_features='auto', max_leaf_nodes=None,\n",
       "            min_impurity_decrease=0.0, min_impurity_split=None,\n",
       "            min_samples_leaf=1, min_samples_split=2,\n",
       "            min_weight_fraction_leaf=0.0, n_estimators=300, n_jobs=-1,\n",
       "            oob_score=False, random_state=1129, verbose=0,\n",
       "            warm_start=False)"
      ]
     },
     "execution_count": 89,
     "metadata": {},
     "output_type": "execute_result"
    }
   ],
   "source": [
    "model"
   ]
  },
  {
   "cell_type": "code",
   "execution_count": null,
   "metadata": {
    "collapsed": true
   },
   "outputs": [],
   "source": []
  }
 ],
 "metadata": {
  "kernelspec": {
   "display_name": "Python 3",
   "language": "python",
   "name": "python3"
  },
  "language_info": {
   "codemirror_mode": {
    "name": "ipython",
    "version": 3
   },
   "file_extension": ".py",
   "mimetype": "text/x-python",
   "name": "python",
   "nbconvert_exporter": "python",
   "pygments_lexer": "ipython3",
   "version": "3.6.1"
  }
 },
 "nbformat": 4,
 "nbformat_minor": 2
}
