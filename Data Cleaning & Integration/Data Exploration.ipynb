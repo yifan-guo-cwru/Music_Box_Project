{
 "cells": [
  {
   "cell_type": "code",
   "execution_count": 14,
   "metadata": {},
   "outputs": [
    {
     "name": "stdout",
     "output_type": "stream",
     "text": [
      "Welcome to\n",
      "      ____              __\n",
      "     / __/__  ___ _____/ /__\n",
      "    _\\ \\/ _ \\/ _ `/ __/  '_/\n",
      "   /__ / .__/\\_,_/_/ /_/\\_\\   version 2.2.1\n",
      "      /_/\n",
      "\n",
      "Using Python version 3.6.1 (default, May 11 2017 13:04:09)\n",
      "SparkSession available as 'spark'.\n"
     ]
    }
   ],
   "source": [
    "import os\n",
    "filename = '/usr/local/Cellar/apache-spark/2.2.1/libexec/python/pyspark/shell.py'\n",
    "exec(open(filename).read())"
   ]
  },
  {
   "cell_type": "code",
   "execution_count": 15,
   "metadata": {
    "collapsed": true
   },
   "outputs": [],
   "source": [
    "from pyspark.sql import SparkSession"
   ]
  },
  {
   "cell_type": "code",
   "execution_count": 16,
   "metadata": {
    "collapsed": true
   },
   "outputs": [],
   "source": [
    "# May take awhile locally\n",
    "spark = SparkSession.builder.appName(\"Exploration\").getOrCreate()"
   ]
  },
  {
   "cell_type": "markdown",
   "metadata": {},
   "source": [
    "## First, use a small dataset to see some usage of DataFrame in Spark"
   ]
  },
  {
   "cell_type": "code",
   "execution_count": 4,
   "metadata": {
    "collapsed": true
   },
   "outputs": [],
   "source": [
    "# Let Spark know about the header and infer the Schema types!\n",
    "df = spark.read.csv('../data/play/20170301_play.log.fn', sep = '\\t', inferSchema=True, header=True)"
   ]
  },
  {
   "cell_type": "code",
   "execution_count": 17,
   "metadata": {},
   "outputs": [
    {
     "name": "stdout",
     "output_type": "stream",
     "text": [
      "root\n",
      " |-- uid: double (nullable = true)\n",
      " |-- device: string (nullable = true)\n",
      " |-- song_id: string (nullable = true)\n",
      " |-- song_type: string (nullable = true)\n",
      " |-- song_name: string (nullable = true)\n",
      " |-- singers: string (nullable = true)\n",
      " |-- play_time: string (nullable = true)\n",
      " |-- song_length: string (nullable = true)\n",
      " |-- paid_flag: string (nullable = true)\n",
      " |-- file_name: string (nullable = true)\n",
      "\n"
     ]
    }
   ],
   "source": [
    "df.printSchema()"
   ]
  },
  {
   "cell_type": "code",
   "execution_count": 18,
   "metadata": {},
   "outputs": [
    {
     "name": "stdout",
     "output_type": "stream",
     "text": [
      "+------------+------+---------+---------+--------------------+--------------------+---------+-----------+---------+------------------+\n",
      "|         uid|device|  song_id|song_type|           song_name|             singers|play_time|song_length|paid_flag|         file_name|\n",
      "+------------+------+---------+---------+--------------------+--------------------+---------+-----------+---------+------------------+\n",
      "|1.54422682E8|   ar |20870993 |       1 |                 用情 |              狮子合唱团 |   22013 |       332 |       0 | 20170301_play.log|\n",
      "|1.54421907E8|   ip | 6560858 |       0 |             表情不要悲伤 |    伯贤&D.O.&张艺兴&朴灿烈 |      96 |       161 |       0 | 20170301_play.log|\n",
      "| 1.5442263E8|   ar | 3385963 |       1 |Baby, Don't Cry(人...|                EXO |  235868 |       235 |       0 | 20170301_play.log|\n",
      "|1.54410267E8|   ar | 6777172 |       0 |   3D-环绕音律1(3D Mix) |             McTaiM |     164 |       237 |       0 | 20170301_play.log|\n",
      "|1.54407793E8|   ar |19472465 |       0 |              刚好遇见你 |                曲肖冰 |      24 |       201 |       0 | 20170301_play.log|\n",
      "|1.54422626E8|   ar | 3198036 |       1 |              只唱给你听 |            SpeXial |  275249 |         0 |       0 | 20170301_play.log|\n",
      "|1.54422681E8|   ar |  891952 |       0 |   老男孩-(电影《老男孩》主题曲) |               筷子兄弟 |     300 |       300 |       0 | 20170301_play.log|\n",
      "|1.54408091E8|   ar | 4623962 |       0 |             预谋 许佳慧 |               网络歌手 |     243 |       243 |       0 | 20170301_play.log|\n",
      "|1.54422571E8|   ar |  703750 |       0 |            爸爸妈妈听我说 |               儿童歌曲 |     207 |       207 |       0 | 20170301_play.log|\n",
      "|1.54417311E8|   ar | 6491500 |       0 |        Stereo Love |        Edward Maya |      56 |       184 |       0 | 20170301_play.log|\n",
      "|1.54421166E8|   ar | 1967689 |       0 |    悟-(电影《新少林寺》主题曲) |                刘德华 |     139 |       275 |       0 | 20170301_play.log|\n",
      "|1.54421859E8|   ar | 6126586 |       0 |        老情歌(27秒铃声版) |                 童丽 |       4 |        27 |       0 | 20170301_play.log|\n",
      "| 1.5442266E8|   ar |11914644 |       0 |                 温柔 |杨丞琳[一闪一闪亮晶晶的钻石女士]...|     299 |       300 |       0 | 20170301_play.log|\n",
      "| 1.5442259E8|   ar | 6468891 |       0 |                 演员 |                薛之谦 |     261 |       261 |       0 | 20170301_play.log|\n",
      "|1.54419565E8|   ar |15196649 |       0 |            我太帅了万人爱 |               MC马克 |       8 |        65 |       0 | 20170301_play.log|\n",
      "|1.54414286E8|   ar | 7143177 |       0 |超越无限-(电影《听·见 林俊杰》...|                林俊杰 |      26 |         0 |       0 | 20170301_play.log|\n",
      "|1.54422089E8|   ar |       0 |       1 |           预谋dj 许佳慧 |听30音乐网首发Qq369849635 |       7 |       345 |       0 | 20170301_play.log|\n",
      "|1.54422443E8|   ip | 6247282 |       0 |            假日(DJ版) |                罗百吉 |       1 |       277 |       0 | 20170301_play.log|\n",
      "|1.54412729E8|   ip | 4357368 |       0 |英文(Dj,2012 超好听的英文...|               慢摇舞曲 |       4 |       271 |       0 | 20170301_play.log|\n",
      "|1.53985859E8|   ar | 6762438 |       0 |         门铃声(1秒铃声版) |               手机铃声 |       1 |         1 |       0 | 20170301_play.log|\n",
      "+------------+------+---------+---------+--------------------+--------------------+---------+-----------+---------+------------------+\n",
      "only showing top 20 rows\n",
      "\n"
     ]
    }
   ],
   "source": [
    "df.show()"
   ]
  },
  {
   "cell_type": "code",
   "execution_count": 7,
   "metadata": {},
   "outputs": [
    {
     "data": {
      "text/plain": [
       "DataFrame[summary: string, uid: string, device: string, song_id: string, song_type: string, song_name: string, singers: string, play_time: string, song_length: string, paid_flag: string, file_name: string]"
      ]
     },
     "execution_count": 7,
     "metadata": {},
     "output_type": "execute_result"
    }
   ],
   "source": [
    "df.describe()"
   ]
  },
  {
   "cell_type": "code",
   "execution_count": 8,
   "metadata": {},
   "outputs": [
    {
     "data": {
      "text/plain": [
       "3422934"
      ]
     },
     "execution_count": 8,
     "metadata": {},
     "output_type": "execute_result"
    }
   ],
   "source": [
    "# total number of samples\n",
    "df.count()"
   ]
  },
  {
   "cell_type": "code",
   "execution_count": 9,
   "metadata": {},
   "outputs": [
    {
     "data": {
      "text/plain": [
       "175192"
      ]
     },
     "execution_count": 9,
     "metadata": {},
     "output_type": "execute_result"
    }
   ],
   "source": [
    "# the number of unique id in the dataset\n",
    "df.select('uid').distinct().count()"
   ]
  },
  {
   "cell_type": "markdown",
   "metadata": {},
   "source": [
    "## Next, use the whole dataset to transform to DataFrame in Spark"
   ]
  },
  {
   "cell_type": "code",
   "execution_count": 10,
   "metadata": {
    "collapsed": true
   },
   "outputs": [],
   "source": [
    "# Let Spark know about the header and infer the Schema types!\n",
    "df_whole = spark.read.csv('../data/all_play.log.fn', sep = '\\t', inferSchema=True, header=True)"
   ]
  },
  {
   "cell_type": "code",
   "execution_count": 11,
   "metadata": {},
   "outputs": [
    {
     "name": "stdout",
     "output_type": "stream",
     "text": [
      "root\n",
      " |-- uid: string (nullable = true)\n",
      " |-- device: string (nullable = true)\n",
      " |-- song_id: string (nullable = true)\n",
      " |-- song_type: string (nullable = true)\n",
      " |-- song_name: string (nullable = true)\n",
      " |-- singers: string (nullable = true)\n",
      " |-- play_time: string (nullable = true)\n",
      " |-- song_length: string (nullable = true)\n",
      " |-- paid_flag: string (nullable = true)\n",
      " |-- file_name: string (nullable = true)\n",
      "\n"
     ]
    }
   ],
   "source": [
    "df_whole.printSchema()"
   ]
  },
  {
   "cell_type": "code",
   "execution_count": 12,
   "metadata": {},
   "outputs": [
    {
     "data": {
      "text/plain": [
       "164667143"
      ]
     },
     "execution_count": 12,
     "metadata": {},
     "output_type": "execute_result"
    }
   ],
   "source": [
    "# total number of samples in the whole dataset\n",
    "df_whole.count()"
   ]
  },
  {
   "cell_type": "code",
   "execution_count": 13,
   "metadata": {},
   "outputs": [
    {
     "data": {
      "text/plain": [
       "871702"
      ]
     },
     "execution_count": 13,
     "metadata": {},
     "output_type": "execute_result"
    }
   ],
   "source": [
    "# the number of unique id in the whole dataset\n",
    "df_whole.select('uid').distinct().count()"
   ]
  },
  {
   "cell_type": "markdown",
   "metadata": {},
   "source": [
    "## Finally, load the uid list(a text file)"
   ]
  },
  {
   "cell_type": "code",
   "execution_count": 49,
   "metadata": {
    "collapsed": true
   },
   "outputs": [],
   "source": [
    "# Load data from txt file without header!\n",
    "import pandas as pd\n",
    "schema = ['uid', 'user_name']\n",
    "raw_uid_list = pd.read_csv('../data/all_uid.txt',delimiter='     ',header=None,index_col=None,names=schema,engine='python')"
   ]
  },
  {
   "cell_type": "code",
   "execution_count": 50,
   "metadata": {},
   "outputs": [
    {
     "data": {
      "text/html": [
       "<div>\n",
       "<style scoped>\n",
       "    .dataframe tbody tr th:only-of-type {\n",
       "        vertical-align: middle;\n",
       "    }\n",
       "\n",
       "    .dataframe tbody tr th {\n",
       "        vertical-align: top;\n",
       "    }\n",
       "\n",
       "    .dataframe thead th {\n",
       "        text-align: right;\n",
       "    }\n",
       "</style>\n",
       "<table border=\"1\" class=\"dataframe\">\n",
       "  <thead>\n",
       "    <tr style=\"text-align: right;\">\n",
       "      <th></th>\n",
       "      <th>uid</th>\n",
       "      <th>user_name</th>\n",
       "    </tr>\n",
       "  </thead>\n",
       "  <tbody>\n",
       "    <tr>\n",
       "      <th>0</th>\n",
       "      <td>154464765</td>\n",
       "      <td>004402142270997</td>\n",
       "    </tr>\n",
       "    <tr>\n",
       "      <th>1</th>\n",
       "      <td>154788607</td>\n",
       "      <td>00:08:22:92:17:0a</td>\n",
       "    </tr>\n",
       "    <tr>\n",
       "      <th>2</th>\n",
       "      <td>154659978</td>\n",
       "      <td>00:08:22:98:e1:98</td>\n",
       "    </tr>\n",
       "    <tr>\n",
       "      <th>3</th>\n",
       "      <td>154681746</td>\n",
       "      <td>00:08:22:ba:74:07</td>\n",
       "    </tr>\n",
       "    <tr>\n",
       "      <th>4</th>\n",
       "      <td>154391982</td>\n",
       "      <td>00:08:22:fc:3d:ca</td>\n",
       "    </tr>\n",
       "  </tbody>\n",
       "</table>\n",
       "</div>"
      ],
      "text/plain": [
       "         uid          user_name\n",
       "0  154464765    004402142270997\n",
       "1  154788607  00:08:22:92:17:0a\n",
       "2  154659978  00:08:22:98:e1:98\n",
       "3  154681746  00:08:22:ba:74:07\n",
       "4  154391982  00:08:22:fc:3d:ca"
      ]
     },
     "execution_count": 50,
     "metadata": {},
     "output_type": "execute_result"
    }
   ],
   "source": [
    "raw_uid_list.head(5)"
   ]
  },
  {
   "cell_type": "code",
   "execution_count": 55,
   "metadata": {
    "collapsed": true
   },
   "outputs": [],
   "source": [
    "# transfer the uid list to set\n",
    "uid_set = set(raw_uid_list.uid.unique())"
   ]
  },
  {
   "cell_type": "code",
   "execution_count": 58,
   "metadata": {},
   "outputs": [
    {
     "data": {
      "text/plain": [
       "264715"
      ]
     },
     "execution_count": 58,
     "metadata": {},
     "output_type": "execute_result"
    }
   ],
   "source": [
    "# the number of uid in the uid_list\n",
    "len(uid_set)"
   ]
  },
  {
   "cell_type": "markdown",
   "metadata": {},
   "source": [
    "### Difference of user numbers between all_uid.txt and all_play.log.fn !\n",
    "\n",
    "The distinct number of user id in all_uid.txt: 264715\n",
    "\n",
    "The distinct number of user id in all_play.log.fn: 871702"
   ]
  },
  {
   "cell_type": "code",
   "execution_count": null,
   "metadata": {
    "collapsed": true
   },
   "outputs": [],
   "source": []
  }
 ],
 "metadata": {
  "kernelspec": {
   "display_name": "Python 3",
   "language": "python",
   "name": "python3"
  },
  "language_info": {
   "codemirror_mode": {
    "name": "ipython",
    "version": 3
   },
   "file_extension": ".py",
   "mimetype": "text/x-python",
   "name": "python",
   "nbconvert_exporter": "python",
   "pygments_lexer": "ipython3",
   "version": "3.6.1"
  }
 },
 "nbformat": 4,
 "nbformat_minor": 2
}
