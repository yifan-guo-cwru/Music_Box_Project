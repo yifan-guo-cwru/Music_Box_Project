{
 "cells": [
  {
   "cell_type": "code",
   "execution_count": 1,
   "metadata": {
    "collapsed": true
   },
   "outputs": [],
   "source": [
    "# load the file_name with ending of .csv under certain directory\n",
    "import os\n",
    "\n",
    "file_names = []\n",
    "cwd = os.getcwd()\n",
    "#print(cwd)\n",
    "directory = os.path.join(cwd + \"/new_filtered_df_select_use.csv/\")\n",
    "for root,dirs,files in os.walk(directory):\n",
    "    for file in files:\n",
    "        if file.endswith(\".csv\"):\n",
    "            file_names.append(str(file))\n",
    "\n",
    "#print(file_names)"
   ]
  },
  {
   "cell_type": "code",
   "execution_count": 2,
   "metadata": {
    "collapsed": true
   },
   "outputs": [],
   "source": [
    "# sort the file_name with ending of .csv under certain directory\n",
    "\n",
    "#grab the middle 5 characters of the file name[index:5-10]:\n",
    "def mid_5chars(x):\n",
    "    return(x[5:10])\n",
    "\n",
    "sorted(file_names, key = mid_5chars)\n",
    "file_names_sorted = [filename for filename in sorted(file_names, key = mid_5chars)]\n",
    "#print(file_names_sorted)"
   ]
  },
  {
   "cell_type": "code",
   "execution_count": 3,
   "metadata": {},
   "outputs": [],
   "source": [
    "import pandas as pd\n",
    "import numpy as np\n",
    "\n",
    "# clean the data whose have the outlier values\n",
    "def is_float(input_data):\n",
    "    try:\n",
    "        float_num = float(input_data)\n",
    "    except ValueError:\n",
    "        return False\n",
    "    return True\n",
    "\n",
    "def is_int(input_data):\n",
    "    try:\n",
    "        float_num = int(input_data)\n",
    "    except ValueError:\n",
    "        return False\n",
    "    return True\n",
    "\n",
    "# delete the negative value \n",
    "def is_pos(input_data):\n",
    "    if input_data > 0.0:\n",
    "        return True\n",
    "    else:\n",
    "        return False\n",
    "\n",
    "def get_true_false_index(df,attr,func):\n",
    "    df[attr + '_true_false_index'] = df[attr].map(func)\n",
    "    df.loc[df[attr + '_true_false_index'] == False, attr] = np.nan\n",
    "    df[attr] = df[attr].astype(float)\n",
    "\n",
    "def clean_data(single_file_name):\n",
    "    directory = os.path.join(cwd + \"/new_filtered_df_select_use.csv/\")\n",
    "    print(directory + single_file_name)\n",
    "    df = pd.read_csv(directory + single_file_name)\n",
    "\n",
    "    #Drop the raws where any of the elements is nan\n",
    "    df = df.dropna(axis=0, how='any')\n",
    "\n",
    "    attrs = ['play_time', 'song_length', 'song_id', 'uid']\n",
    "    for attr in attrs:\n",
    "        if attrs.index(attr) < 2:\n",
    "            get_true_false_index(df, attr, is_float)\n",
    "        else:\n",
    "            get_true_false_index(df, attr, is_int)\n",
    "\n",
    "    #Drop the raws where any of the elements is nan\n",
    "    df = df.dropna(axis=0, how='any')\n",
    "\n",
    "    # keep the data we care about\n",
    "    df = df[['date', 'uid', 'play_time', 'song_length', 'song_id']]\n",
    "\n",
    "    attrs = ['play_time', 'song_length', 'song_id']\n",
    "    for attr in attrs:\n",
    "        get_true_false_index(df, attr, is_pos)\n",
    "\n",
    "    #Drop the raws where any of the elements is nan\n",
    "    df = df.dropna(axis=0, how='any')\n",
    "\n",
    "    # keep the data we care about\n",
    "    df = df[['date', 'uid', 'play_time', 'song_length', 'song_id']]\n",
    "    df[['uid', 'play_time', 'song_length', 'song_id']].astype('float')\n",
    "    \n",
    "    #the last manipulation: making sure 'play_time' < 'song_length'\n",
    "    df['p_less_than_s'] = np.where((df['play_time'] <= df['song_length']), True, False)\n",
    "    df.loc[df['p_less_than_s'] == False, 'p_less_than_s'] = np.nan\n",
    "    \n",
    "    #Drop the raws where any of the elements is nan\n",
    "    df = df.dropna(axis=0, how='any')\n",
    "    #print(df.count())\n",
    "    print(df.info())\n",
    "\n",
    "    directory = os.path.join(cwd + \"/clean_data/\")\n",
    "    file_name = directory + file_names_sorted[0][5:10] + '.csv'\n",
    "    df.to_csv(file_name, encoding='utf-8', index=False)\n"
   ]
  },
  {
   "cell_type": "code",
   "execution_count": 4,
   "metadata": {},
   "outputs": [
    {
     "name": "stdout",
     "output_type": "stream",
     "text": [
      "/Users/yifanguo/Documents/GitHub/Music_Box_Project/Data Transformation & Feature engineering/new_filtered_df_select_use.csv/part-00011-1c112e60-2ce4-4869-88fd-333d8df98992-c000.csv\n"
     ]
    },
    {
     "name": "stderr",
     "output_type": "stream",
     "text": [
      "/anaconda/lib/python3.6/site-packages/IPython/core/interactiveshell.py:2821: DtypeWarning: Columns (4) have mixed types. Specify dtype option on import or set low_memory=False.\n",
      "  if self.run_code(code, result):\n"
     ]
    },
    {
     "name": "stdout",
     "output_type": "stream",
     "text": [
      "<class 'pandas.core.frame.DataFrame'>\n",
      "Int64Index: 741491 entries, 0 to 1075904\n",
      "Data columns (total 5 columns):\n",
      "date           741491 non-null object\n",
      "uid            741491 non-null float64\n",
      "play_time      741491 non-null float64\n",
      "song_length    741491 non-null float64\n",
      "song_id        741491 non-null float64\n",
      "dtypes: float64(4), object(1)\n",
      "memory usage: 33.9+ MB\n",
      "None\n",
      "0 file converted!\n",
      "/Users/yifanguo/Documents/GitHub/Music_Box_Project/Data Transformation & Feature engineering/new_filtered_df_select_use.csv/part-00012-1c112e60-2ce4-4869-88fd-333d8df98992-c000.csv\n",
      "<class 'pandas.core.frame.DataFrame'>\n",
      "Int64Index: 1071956 entries, 1 to 1544612\n",
      "Data columns (total 5 columns):\n",
      "date           1071956 non-null object\n",
      "uid            1071956 non-null float64\n",
      "play_time      1071956 non-null float64\n",
      "song_length    1071956 non-null float64\n",
      "song_id        1071956 non-null float64\n",
      "dtypes: float64(4), object(1)\n",
      "memory usage: 49.1+ MB\n",
      "None\n",
      "1 file converted!\n",
      "/Users/yifanguo/Documents/GitHub/Music_Box_Project/Data Transformation & Feature engineering/new_filtered_df_select_use.csv/part-00013-1c112e60-2ce4-4869-88fd-333d8df98992-c000.csv\n",
      "<class 'pandas.core.frame.DataFrame'>\n",
      "Int64Index: 1066222 entries, 0 to 1544131\n",
      "Data columns (total 5 columns):\n",
      "date           1066222 non-null object\n",
      "uid            1066222 non-null float64\n",
      "play_time      1066222 non-null float64\n",
      "song_length    1066222 non-null float64\n",
      "song_id        1066222 non-null float64\n",
      "dtypes: float64(4), object(1)\n",
      "memory usage: 48.8+ MB\n",
      "None\n"
     ]
    },
    {
     "ename": "KeyboardInterrupt",
     "evalue": "",
     "output_type": "error",
     "traceback": [
      "\u001b[0;31m---------------------------------------------------------------------------\u001b[0m",
      "\u001b[0;31mKeyboardInterrupt\u001b[0m                         Traceback (most recent call last)",
      "\u001b[0;32m<ipython-input-4-83123a7ead56>\u001b[0m in \u001b[0;36m<module>\u001b[0;34m()\u001b[0m\n\u001b[1;32m      1\u001b[0m \u001b[0;32mfor\u001b[0m \u001b[0mfile_name_sorted\u001b[0m \u001b[0;32min\u001b[0m \u001b[0mfile_names_sorted\u001b[0m\u001b[0;34m:\u001b[0m\u001b[0;34m\u001b[0m\u001b[0m\n\u001b[0;32m----> 2\u001b[0;31m     \u001b[0mclean_data\u001b[0m\u001b[0;34m(\u001b[0m\u001b[0mfile_name_sorted\u001b[0m\u001b[0;34m)\u001b[0m\u001b[0;34m\u001b[0m\u001b[0m\n\u001b[0m\u001b[1;32m      3\u001b[0m     \u001b[0mprint\u001b[0m\u001b[0;34m(\u001b[0m\u001b[0mstr\u001b[0m\u001b[0;34m(\u001b[0m\u001b[0mfile_names_sorted\u001b[0m\u001b[0;34m.\u001b[0m\u001b[0mindex\u001b[0m\u001b[0;34m(\u001b[0m\u001b[0mfile_name_sorted\u001b[0m\u001b[0;34m)\u001b[0m\u001b[0;34m)\u001b[0m \u001b[0;34m+\u001b[0m \u001b[0;34m' file converted!'\u001b[0m\u001b[0;34m)\u001b[0m\u001b[0;34m\u001b[0m\u001b[0m\n",
      "\u001b[0;32m<ipython-input-3-cbc54c4d278b>\u001b[0m in \u001b[0;36mclean_data\u001b[0;34m(single_file_name)\u001b[0m\n\u001b[1;32m     72\u001b[0m     \u001b[0mdirectory\u001b[0m \u001b[0;34m=\u001b[0m \u001b[0mos\u001b[0m\u001b[0;34m.\u001b[0m\u001b[0mpath\u001b[0m\u001b[0;34m.\u001b[0m\u001b[0mjoin\u001b[0m\u001b[0;34m(\u001b[0m\u001b[0mcwd\u001b[0m \u001b[0;34m+\u001b[0m \u001b[0;34m\"/clean_data/\"\u001b[0m\u001b[0;34m)\u001b[0m\u001b[0;34m\u001b[0m\u001b[0m\n\u001b[1;32m     73\u001b[0m     \u001b[0mfile_name\u001b[0m \u001b[0;34m=\u001b[0m \u001b[0mdirectory\u001b[0m \u001b[0;34m+\u001b[0m \u001b[0mfile_names_sorted\u001b[0m\u001b[0;34m[\u001b[0m\u001b[0;36m0\u001b[0m\u001b[0;34m]\u001b[0m\u001b[0;34m[\u001b[0m\u001b[0;36m5\u001b[0m\u001b[0;34m:\u001b[0m\u001b[0;36m10\u001b[0m\u001b[0;34m]\u001b[0m \u001b[0;34m+\u001b[0m \u001b[0;34m'.csv'\u001b[0m\u001b[0;34m\u001b[0m\u001b[0m\n\u001b[0;32m---> 74\u001b[0;31m     \u001b[0mdf\u001b[0m\u001b[0;34m.\u001b[0m\u001b[0mto_csv\u001b[0m\u001b[0;34m(\u001b[0m\u001b[0mfile_name\u001b[0m\u001b[0;34m,\u001b[0m \u001b[0mencoding\u001b[0m\u001b[0;34m=\u001b[0m\u001b[0;34m'utf-8'\u001b[0m\u001b[0;34m,\u001b[0m \u001b[0mindex\u001b[0m\u001b[0;34m=\u001b[0m\u001b[0;32mFalse\u001b[0m\u001b[0;34m)\u001b[0m\u001b[0;34m\u001b[0m\u001b[0m\n\u001b[0m",
      "\u001b[0;32m/anaconda/lib/python3.6/site-packages/pandas/core/frame.py\u001b[0m in \u001b[0;36mto_csv\u001b[0;34m(self, path_or_buf, sep, na_rep, float_format, columns, header, index, index_label, mode, encoding, compression, quoting, quotechar, line_terminator, chunksize, tupleize_cols, date_format, doublequote, escapechar, decimal)\u001b[0m\n\u001b[1;32m   1522\u001b[0m                                      \u001b[0mdoublequote\u001b[0m\u001b[0;34m=\u001b[0m\u001b[0mdoublequote\u001b[0m\u001b[0;34m,\u001b[0m\u001b[0;34m\u001b[0m\u001b[0m\n\u001b[1;32m   1523\u001b[0m                                      escapechar=escapechar, decimal=decimal)\n\u001b[0;32m-> 1524\u001b[0;31m         \u001b[0mformatter\u001b[0m\u001b[0;34m.\u001b[0m\u001b[0msave\u001b[0m\u001b[0;34m(\u001b[0m\u001b[0;34m)\u001b[0m\u001b[0;34m\u001b[0m\u001b[0m\n\u001b[0m\u001b[1;32m   1525\u001b[0m \u001b[0;34m\u001b[0m\u001b[0m\n\u001b[1;32m   1526\u001b[0m         \u001b[0;32mif\u001b[0m \u001b[0mpath_or_buf\u001b[0m \u001b[0;32mis\u001b[0m \u001b[0;32mNone\u001b[0m\u001b[0;34m:\u001b[0m\u001b[0;34m\u001b[0m\u001b[0m\n",
      "\u001b[0;32m/anaconda/lib/python3.6/site-packages/pandas/io/formats/format.py\u001b[0m in \u001b[0;36msave\u001b[0;34m(self)\u001b[0m\n\u001b[1;32m   1642\u001b[0m                 \u001b[0mself\u001b[0m\u001b[0;34m.\u001b[0m\u001b[0mwriter\u001b[0m \u001b[0;34m=\u001b[0m \u001b[0mUnicodeWriter\u001b[0m\u001b[0;34m(\u001b[0m\u001b[0mf\u001b[0m\u001b[0;34m,\u001b[0m \u001b[0;34m**\u001b[0m\u001b[0mwriter_kwargs\u001b[0m\u001b[0;34m)\u001b[0m\u001b[0;34m\u001b[0m\u001b[0m\n\u001b[1;32m   1643\u001b[0m \u001b[0;34m\u001b[0m\u001b[0m\n\u001b[0;32m-> 1644\u001b[0;31m             \u001b[0mself\u001b[0m\u001b[0;34m.\u001b[0m\u001b[0m_save\u001b[0m\u001b[0;34m(\u001b[0m\u001b[0;34m)\u001b[0m\u001b[0;34m\u001b[0m\u001b[0m\n\u001b[0m\u001b[1;32m   1645\u001b[0m \u001b[0;34m\u001b[0m\u001b[0m\n\u001b[1;32m   1646\u001b[0m         \u001b[0;32mfinally\u001b[0m\u001b[0;34m:\u001b[0m\u001b[0;34m\u001b[0m\u001b[0m\n",
      "\u001b[0;32m/anaconda/lib/python3.6/site-packages/pandas/io/formats/format.py\u001b[0m in \u001b[0;36m_save\u001b[0;34m(self)\u001b[0m\n\u001b[1;32m   1744\u001b[0m                 \u001b[0;32mbreak\u001b[0m\u001b[0;34m\u001b[0m\u001b[0m\n\u001b[1;32m   1745\u001b[0m \u001b[0;34m\u001b[0m\u001b[0m\n\u001b[0;32m-> 1746\u001b[0;31m             \u001b[0mself\u001b[0m\u001b[0;34m.\u001b[0m\u001b[0m_save_chunk\u001b[0m\u001b[0;34m(\u001b[0m\u001b[0mstart_i\u001b[0m\u001b[0;34m,\u001b[0m \u001b[0mend_i\u001b[0m\u001b[0;34m)\u001b[0m\u001b[0;34m\u001b[0m\u001b[0m\n\u001b[0m\u001b[1;32m   1747\u001b[0m \u001b[0;34m\u001b[0m\u001b[0m\n\u001b[1;32m   1748\u001b[0m     \u001b[0;32mdef\u001b[0m \u001b[0m_save_chunk\u001b[0m\u001b[0;34m(\u001b[0m\u001b[0mself\u001b[0m\u001b[0;34m,\u001b[0m \u001b[0mstart_i\u001b[0m\u001b[0;34m,\u001b[0m \u001b[0mend_i\u001b[0m\u001b[0;34m)\u001b[0m\u001b[0;34m:\u001b[0m\u001b[0;34m\u001b[0m\u001b[0m\n",
      "\u001b[0;32m/anaconda/lib/python3.6/site-packages/pandas/io/formats/format.py\u001b[0m in \u001b[0;36m_save_chunk\u001b[0;34m(self, start_i, end_i)\u001b[0m\n\u001b[1;32m   1758\u001b[0m                                   \u001b[0mdecimal\u001b[0m\u001b[0;34m=\u001b[0m\u001b[0mself\u001b[0m\u001b[0;34m.\u001b[0m\u001b[0mdecimal\u001b[0m\u001b[0;34m,\u001b[0m\u001b[0;34m\u001b[0m\u001b[0m\n\u001b[1;32m   1759\u001b[0m                                   \u001b[0mdate_format\u001b[0m\u001b[0;34m=\u001b[0m\u001b[0mself\u001b[0m\u001b[0;34m.\u001b[0m\u001b[0mdate_format\u001b[0m\u001b[0;34m,\u001b[0m\u001b[0;34m\u001b[0m\u001b[0m\n\u001b[0;32m-> 1760\u001b[0;31m                                   quoting=self.quoting)\n\u001b[0m\u001b[1;32m   1761\u001b[0m \u001b[0;34m\u001b[0m\u001b[0m\n\u001b[1;32m   1762\u001b[0m             \u001b[0;32mfor\u001b[0m \u001b[0mcol_loc\u001b[0m\u001b[0;34m,\u001b[0m \u001b[0mcol\u001b[0m \u001b[0;32min\u001b[0m \u001b[0mzip\u001b[0m\u001b[0;34m(\u001b[0m\u001b[0mb\u001b[0m\u001b[0;34m.\u001b[0m\u001b[0mmgr_locs\u001b[0m\u001b[0;34m,\u001b[0m \u001b[0md\u001b[0m\u001b[0;34m)\u001b[0m\u001b[0;34m:\u001b[0m\u001b[0;34m\u001b[0m\u001b[0m\n",
      "\u001b[0;32m/anaconda/lib/python3.6/site-packages/pandas/core/internals.py\u001b[0m in \u001b[0;36mto_native_types\u001b[0;34m(self, slicer, na_rep, float_format, decimal, quoting, **kwargs)\u001b[0m\n\u001b[1;32m   1857\u001b[0m \u001b[0;34m\u001b[0m\u001b[0m\n\u001b[1;32m   1858\u001b[0m             \u001b[0;32mif\u001b[0m \u001b[0;32mnot\u001b[0m \u001b[0mquoting\u001b[0m\u001b[0;34m:\u001b[0m\u001b[0;34m\u001b[0m\u001b[0m\n\u001b[0;32m-> 1859\u001b[0;31m                 \u001b[0mvalues\u001b[0m \u001b[0;34m=\u001b[0m \u001b[0mvalues\u001b[0m\u001b[0;34m.\u001b[0m\u001b[0mastype\u001b[0m\u001b[0;34m(\u001b[0m\u001b[0mstr\u001b[0m\u001b[0;34m)\u001b[0m\u001b[0;34m\u001b[0m\u001b[0m\n\u001b[0m\u001b[1;32m   1860\u001b[0m             \u001b[0;32melse\u001b[0m\u001b[0;34m:\u001b[0m\u001b[0;34m\u001b[0m\u001b[0m\n\u001b[1;32m   1861\u001b[0m                 \u001b[0mvalues\u001b[0m \u001b[0;34m=\u001b[0m \u001b[0mnp\u001b[0m\u001b[0;34m.\u001b[0m\u001b[0marray\u001b[0m\u001b[0;34m(\u001b[0m\u001b[0mvalues\u001b[0m\u001b[0;34m,\u001b[0m \u001b[0mdtype\u001b[0m\u001b[0;34m=\u001b[0m\u001b[0;34m'object'\u001b[0m\u001b[0;34m)\u001b[0m\u001b[0;34m\u001b[0m\u001b[0m\n",
      "\u001b[0;31mKeyboardInterrupt\u001b[0m: "
     ]
    }
   ],
   "source": [
    "for file_name_sorted in file_names_sorted:\n",
    "    clean_data(file_name_sorted)\n",
    "    print(str(file_names_sorted.index(file_name_sorted)) + ' file converted!')"
   ]
  },
  {
   "cell_type": "code",
   "execution_count": null,
   "metadata": {
    "collapsed": true
   },
   "outputs": [],
   "source": []
  }
 ],
 "metadata": {
  "kernelspec": {
   "display_name": "Python 3",
   "language": "python",
   "name": "python3"
  },
  "language_info": {
   "codemirror_mode": {
    "name": "ipython",
    "version": 3
   },
   "file_extension": ".py",
   "mimetype": "text/x-python",
   "name": "python",
   "nbconvert_exporter": "python",
   "pygments_lexer": "ipython3",
   "version": "3.6.1"
  }
 },
 "nbformat": 4,
 "nbformat_minor": 2
}
