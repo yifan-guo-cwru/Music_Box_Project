{
 "cells": [
  {
   "cell_type": "code",
   "execution_count": 45,
   "metadata": {},
   "outputs": [
    {
     "name": "stdout",
     "output_type": "stream",
     "text": [
      "['00011.csv', '00012.csv', '00013.csv', '00014.csv', '00015.csv', '00016.csv', '00017.csv', '00018.csv', '00020.csv', '00021.csv', '00022.csv', '00023.csv', '00024.csv', '00025.csv', '00026.csv', '00027.csv', '00028.csv', '00029.csv', '00030.csv', '00031.csv', '00032.csv', '00033.csv', '00034.csv', '00035.csv', '00036.csv', '00037.csv', '00038.csv', '00039.csv', '00040.csv', '00041.csv', '00042.csv', '00043.csv', '00044.csv', '00045.csv', '00046.csv', '00047.csv', '00048.csv', '00049.csv', '00050.csv', '00051.csv', '00052.csv', '00053.csv', '00054.csv', '00055.csv', '00056.csv', '00057.csv', '00058.csv', '00059.csv', '00060.csv', '00061.csv', '00062.csv', '00063.csv', '00064.csv', '00065.csv', '00066.csv', '00067.csv', '00068.csv', '00069.csv', '00070.csv', '00071.csv', '00072.csv', '00073.csv', '00074.csv', '00075.csv', '00076.csv', '00077.csv', '00078.csv', '00079.csv', '00080.csv', '00081.csv', '00082.csv', '00083.csv', '00084.csv', '00085.csv', '00086.csv', '00087.csv', '00088.csv', '00089.csv', '00090.csv', '00091.csv', '00092.csv', '00093.csv', '00094.csv', '00095.csv', '00096.csv', '00097.csv', '00098.csv', '00099.csv', '00100.csv', '00101.csv', '00102.csv', '00103.csv', '00104.csv', '00105.csv']\n"
     ]
    }
   ],
   "source": [
    "import os\n",
    "\n",
    "cwd = os.getcwd()\n",
    "directory = os.path.join(cwd + \"/clean_data/\")\n",
    "file_names = []\n",
    "for root,dirs,files in os.walk(directory):\n",
    "    for file in files:\n",
    "        if file.endswith(\".csv\"):\n",
    "            file_names.append(str(file))\n",
    "#print(file_names)\n",
    "\n",
    "def mid_3chars(x):\n",
    "    return(x[2:5])\n",
    "\n",
    "file_names_sorted = [filename for filename in sorted(file_names, key = mid_3chars)]\n",
    "print(file_names_sorted)"
   ]
  },
  {
   "cell_type": "code",
   "execution_count": 46,
   "metadata": {},
   "outputs": [
    {
     "name": "stdout",
     "output_type": "stream",
     "text": [
      "10 files are parsed!\n",
      "20 files are parsed!\n",
      "30 files are parsed!\n",
      "40 files are parsed!\n",
      "50 files are parsed!\n",
      "60 files are parsed!\n",
      "70 files are parsed!\n",
      "80 files are parsed!\n",
      "90 files are parsed!\n",
      "========================\n",
      "All subfiles are parsed!\n",
      "the number of unique user id in training set: 529700\n",
      "the number of unique user id in testing set: 214323\n"
     ]
    }
   ],
   "source": [
    "# split the user id - training section and testing section\n",
    "import pandas as pd\n",
    "\n",
    "snapshot_date = '2017-04-28'\n",
    "split_previous_user_id = []\n",
    "split_after_user_id = []\n",
    "whole_clean_data = pd.DataFrame()\n",
    "list_ = []\n",
    "for file_name_sorted in file_names_sorted:\n",
    "    df = pd.read_csv(directory + file_name_sorted, header=0, encoding='utf-8', index_col=False)\n",
    "    split_previous_user_id = split_previous_user_id + df[(df.date <= snapshot_date)].uid.tolist()\n",
    "    split_previous_user_id = list(set(split_previous_user_id))\n",
    "    split_after_user_id = split_after_user_id + df[(df.date > snapshot_date)].uid.tolist()\n",
    "    split_after_user_id = list(set(split_after_user_id))\n",
    "    list_.append(df)\n",
    "    if (file_names_sorted.index(file_name_sorted) + 1) % 10 == 0:\n",
    "        print(str((file_names_sorted.index(file_name_sorted) + 1)) + ' files are parsed!')\n",
    "whole_clean_data = pd.concat(list_)\n",
    "whole_clean_data.columns = ['date', 'uid', 'play_time', 'song_length', 'song_id']\n",
    "print('========================')\n",
    "print('All subfiles are parsed!')\n",
    "\n",
    "print('the number of unique user id in training set: ' + str(len(split_previous_user_id)))\n",
    "print('the number of unique user id in testing set: ' + str(len(split_after_user_id)))"
   ]
  },
  {
   "cell_type": "code",
   "execution_count": 47,
   "metadata": {},
   "outputs": [
    {
     "data": {
      "text/plain": [
       "544224"
      ]
     },
     "execution_count": 47,
     "metadata": {},
     "output_type": "execute_result"
    }
   ],
   "source": [
    "import numpy as np\n",
    "# total number of user id including used and not used\n",
    "len(list(set(whole_clean_data['uid'].tolist())))"
   ]
  },
  {
   "cell_type": "code",
   "execution_count": 48,
   "metadata": {
    "collapsed": true
   },
   "outputs": [],
   "source": [
    "# remove the uid shown after the threshold but not shown before the threshold \n",
    "remove_id_list = list(set(split_after_user_id) - set(split_previous_user_id))"
   ]
  },
  {
   "cell_type": "code",
   "execution_count": 49,
   "metadata": {},
   "outputs": [
    {
     "name": "stdout",
     "output_type": "stream",
     "text": [
      "14524\n"
     ]
    }
   ],
   "source": [
    "# total number of user id including used and not used\n",
    "print(len(remove_id_list))"
   ]
  },
  {
   "cell_type": "code",
   "execution_count": 50,
   "metadata": {},
   "outputs": [
    {
     "name": "stdout",
     "output_type": "stream",
     "text": [
      "199799\n"
     ]
    }
   ],
   "source": [
    "# number of target as not churn - 0\n",
    "split_after_remove_id = list(set(split_after_user_id) - set(split_previous_user_id))\n",
    "split_after_user_id_remove_new_user = list(set(split_after_user_id) - set(split_after_remove_id))\n",
    "target_0_id_list = split_after_user_id_remove_new_user\n",
    "print(len(target_0_id_list))"
   ]
  },
  {
   "cell_type": "code",
   "execution_count": 51,
   "metadata": {},
   "outputs": [
    {
     "name": "stdout",
     "output_type": "stream",
     "text": [
      "329901\n"
     ]
    }
   ],
   "source": [
    "# number of target as churn - 1\n",
    "target_1_id_list = list(set(split_previous_user_id) - set(target_0_id_list))\n",
    "print(len(target_1_id_list))"
   ]
  },
  {
   "cell_type": "code",
   "execution_count": 66,
   "metadata": {},
   "outputs": [
    {
     "data": {
      "text/plain": [
       "<matplotlib.axes._subplots.AxesSubplot at 0x133235b00>"
      ]
     },
     "execution_count": 66,
     "metadata": {},
     "output_type": "execute_result"
    },
    {
     "data": {
      "image/png": "[encoded data removed]",
      "text/plain": [
       "<matplotlib.figure.Figure at 0x10e667780>"
      ]
     },
     "metadata": {},
     "output_type": "display_data"
    }
   ],
   "source": [
    "import matplotlib.pyplot as plt\n",
    "\n",
    "% matplotlib inline\n",
    "# Always make it pretty.\n",
    "plt.style.use('ggplot')\n",
    "\n",
    "pd.DataFrame([len(target_0_id_list), len(target_1_id_list)]).plot.bar()"
   ]
  },
  {
   "cell_type": "code",
   "execution_count": 52,
   "metadata": {
    "collapsed": true
   },
   "outputs": [],
   "source": [
    "# downsampling to make it as a balanced problem\n",
    "np.random.seed(1129)\n",
    "balanced_target_1_id_list = np.random.choice(target_1_id_list, len(target_0_id_list)).tolist()\n",
    "balanced_target_0_id_list = target_0_id_list\n",
    "assert (len(balanced_target_0_id_list) == len(balanced_target_1_id_list)),\"The size doesn't equal!\""
   ]
  },
  {
   "cell_type": "code",
   "execution_count": 53,
   "metadata": {},
   "outputs": [
    {
     "data": {
      "text/plain": [
       "199799"
      ]
     },
     "execution_count": 53,
     "metadata": {},
     "output_type": "execute_result"
    }
   ],
   "source": [
    "len(balanced_target_0_id_list)"
   ]
  },
  {
   "cell_type": "code",
   "execution_count": 54,
   "metadata": {},
   "outputs": [
    {
     "data": {
      "text/plain": [
       "199799"
      ]
     },
     "execution_count": 54,
     "metadata": {},
     "output_type": "execute_result"
    }
   ],
   "source": [
    "len(balanced_target_1_id_list)"
   ]
  },
  {
   "cell_type": "code",
   "execution_count": 55,
   "metadata": {},
   "outputs": [],
   "source": [
    "label_0 = np.zeros(len(balanced_target_0_id_list)).tolist()\n",
    "label_1 = np.ones(len(balanced_target_1_id_list)).tolist()"
   ]
  },
  {
   "cell_type": "code",
   "execution_count": 56,
   "metadata": {},
   "outputs": [
    {
     "data": {
      "text/plain": [
       "399598"
      ]
     },
     "execution_count": 56,
     "metadata": {},
     "output_type": "execute_result"
    }
   ],
   "source": [
    "target = []\n",
    "for index in range(len(balanced_target_0_id_list)):\n",
    "    temp = [balanced_target_0_id_list[index], label_0[index]]\n",
    "    target.append(temp)\n",
    "for index in range(len(balanced_target_1_id_list)):\n",
    "    temp = [balanced_target_1_id_list[index], label_1[index]]\n",
    "    target.append(temp)\n",
    "len(target) "
   ]
  },
  {
   "cell_type": "code",
   "execution_count": 57,
   "metadata": {},
   "outputs": [
    {
     "data": {
      "text/plain": [
       "399598"
      ]
     },
     "execution_count": 57,
     "metadata": {},
     "output_type": "execute_result"
    }
   ],
   "source": [
    "balanced_target_id_list = balanced_target_0_id_list + balanced_target_1_id_list\n",
    "len(balanced_target_id_list)"
   ]
  },
  {
   "cell_type": "code",
   "execution_count": 58,
   "metadata": {
    "collapsed": true
   },
   "outputs": [],
   "source": [
    "# drop off items whose uid is in remove_id list\n",
    "wcd = whole_clean_data[whole_clean_data['uid'].isin(balanced_target_id_list)]"
   ]
  },
  {
   "cell_type": "code",
   "execution_count": 59,
   "metadata": {},
   "outputs": [
    {
     "data": {
      "text/html": [
       "<div>\n",
       "<style scoped>\n",
       "    .dataframe tbody tr th:only-of-type {\n",
       "        vertical-align: middle;\n",
       "    }\n",
       "\n",
       "    .dataframe tbody tr th {\n",
       "        vertical-align: top;\n",
       "    }\n",
       "\n",
       "    .dataframe thead th {\n",
       "        text-align: right;\n",
       "    }\n",
       "</style>\n",
       "<table border=\"1\" class=\"dataframe\">\n",
       "  <thead>\n",
       "    <tr style=\"text-align: right;\">\n",
       "      <th></th>\n",
       "      <th>uid</th>\n",
       "      <th>play_time</th>\n",
       "      <th>song_length</th>\n",
       "      <th>song_id</th>\n",
       "    </tr>\n",
       "  </thead>\n",
       "  <tbody>\n",
       "    <tr>\n",
       "      <th>count</th>\n",
       "      <td>6.812632e+07</td>\n",
       "      <td>6.812632e+07</td>\n",
       "      <td>6.812632e+07</td>\n",
       "      <td>6.812632e+07</td>\n",
       "    </tr>\n",
       "    <tr>\n",
       "      <th>mean</th>\n",
       "      <td>1.680240e+08</td>\n",
       "      <td>1.773799e+02</td>\n",
       "      <td>2.659220e+02</td>\n",
       "      <td>2.033154e+14</td>\n",
       "    </tr>\n",
       "    <tr>\n",
       "      <th>std</th>\n",
       "      <td>3.407224e+06</td>\n",
       "      <td>1.876750e+02</td>\n",
       "      <td>7.415941e+03</td>\n",
       "      <td>4.643687e+16</td>\n",
       "    </tr>\n",
       "    <tr>\n",
       "      <th>min</th>\n",
       "      <td>1.000718e+08</td>\n",
       "      <td>1.460520e-04</td>\n",
       "      <td>1.000000e+00</td>\n",
       "      <td>2.570000e+02</td>\n",
       "    </tr>\n",
       "    <tr>\n",
       "      <th>25%</th>\n",
       "      <td>1.679620e+08</td>\n",
       "      <td>5.300000e+01</td>\n",
       "      <td>2.070000e+02</td>\n",
       "      <td>9.284930e+05</td>\n",
       "    </tr>\n",
       "    <tr>\n",
       "      <th>50%</th>\n",
       "      <td>1.683404e+08</td>\n",
       "      <td>1.970000e+02</td>\n",
       "      <td>2.440000e+02</td>\n",
       "      <td>4.841591e+06</td>\n",
       "    </tr>\n",
       "    <tr>\n",
       "      <th>75%</th>\n",
       "      <td>1.687006e+08</td>\n",
       "      <td>2.530000e+02</td>\n",
       "      <td>2.800000e+02</td>\n",
       "      <td>7.145831e+06</td>\n",
       "    </tr>\n",
       "    <tr>\n",
       "      <th>max</th>\n",
       "      <td>1.692623e+08</td>\n",
       "      <td>2.128000e+04</td>\n",
       "      <td>6.116659e+07</td>\n",
       "      <td>1.844674e+19</td>\n",
       "    </tr>\n",
       "  </tbody>\n",
       "</table>\n",
       "</div>"
      ],
      "text/plain": [
       "                uid     play_time   song_length       song_id\n",
       "count  6.812632e+07  6.812632e+07  6.812632e+07  6.812632e+07\n",
       "mean   1.680240e+08  1.773799e+02  2.659220e+02  2.033154e+14\n",
       "std    3.407224e+06  1.876750e+02  7.415941e+03  4.643687e+16\n",
       "min    1.000718e+08  1.460520e-04  1.000000e+00  2.570000e+02\n",
       "25%    1.679620e+08  5.300000e+01  2.070000e+02  9.284930e+05\n",
       "50%    1.683404e+08  1.970000e+02  2.440000e+02  4.841591e+06\n",
       "75%    1.687006e+08  2.530000e+02  2.800000e+02  7.145831e+06\n",
       "max    1.692623e+08  2.128000e+04  6.116659e+07  1.844674e+19"
      ]
     },
     "execution_count": 59,
     "metadata": {},
     "output_type": "execute_result"
    }
   ],
   "source": [
    "wcd.describe()"
   ]
  },
  {
   "cell_type": "code",
   "execution_count": 60,
   "metadata": {},
   "outputs": [
    {
     "data": {
      "text/plain": [
       "[167772160.0, 0.0]"
      ]
     },
     "execution_count": 60,
     "metadata": {},
     "output_type": "execute_result"
    }
   ],
   "source": [
    "# save lable file\n",
    "target[0]"
   ]
  },
  {
   "cell_type": "code",
   "execution_count": 61,
   "metadata": {},
   "outputs": [
    {
     "data": {
      "text/html": [
       "<div>\n",
       "<style scoped>\n",
       "    .dataframe tbody tr th:only-of-type {\n",
       "        vertical-align: middle;\n",
       "    }\n",
       "\n",
       "    .dataframe tbody tr th {\n",
       "        vertical-align: top;\n",
       "    }\n",
       "\n",
       "    .dataframe thead th {\n",
       "        text-align: right;\n",
       "    }\n",
       "</style>\n",
       "<table border=\"1\" class=\"dataframe\">\n",
       "  <thead>\n",
       "    <tr style=\"text-align: right;\">\n",
       "      <th></th>\n",
       "      <th>uid</th>\n",
       "      <th>target</th>\n",
       "    </tr>\n",
       "  </thead>\n",
       "  <tbody>\n",
       "    <tr>\n",
       "      <th>0</th>\n",
       "      <td>167772160.0</td>\n",
       "      <td>0.0</td>\n",
       "    </tr>\n",
       "    <tr>\n",
       "      <th>1</th>\n",
       "      <td>167772162.0</td>\n",
       "      <td>0.0</td>\n",
       "    </tr>\n",
       "    <tr>\n",
       "      <th>2</th>\n",
       "      <td>167772163.0</td>\n",
       "      <td>0.0</td>\n",
       "    </tr>\n",
       "    <tr>\n",
       "      <th>3</th>\n",
       "      <td>168296454.0</td>\n",
       "      <td>0.0</td>\n",
       "    </tr>\n",
       "    <tr>\n",
       "      <th>4</th>\n",
       "      <td>167772170.0</td>\n",
       "      <td>0.0</td>\n",
       "    </tr>\n",
       "  </tbody>\n",
       "</table>\n",
       "</div>"
      ],
      "text/plain": [
       "           uid  target\n",
       "0  167772160.0     0.0\n",
       "1  167772162.0     0.0\n",
       "2  167772163.0     0.0\n",
       "3  168296454.0     0.0\n",
       "4  167772170.0     0.0"
      ]
     },
     "execution_count": 61,
     "metadata": {},
     "output_type": "execute_result"
    }
   ],
   "source": [
    "df_target = pd.DataFrame(target, columns=['uid', 'target'])\n",
    "df_target.head(5)"
   ]
  },
  {
   "cell_type": "code",
   "execution_count": 67,
   "metadata": {},
   "outputs": [
    {
     "data": {
      "text/plain": [
       "<matplotlib.axes._subplots.AxesSubplot at 0x1363dabe0>"
      ]
     },
     "execution_count": 67,
     "metadata": {},
     "output_type": "execute_result"
    },
    {
     "data": {
      "image/png": "[encoded data removed]",
      "text/plain": [
       "<matplotlib.figure.Figure at 0x12c1bde48>"
      ]
     },
     "metadata": {},
     "output_type": "display_data"
    }
   ],
   "source": [
    "# AFTER down sampling \n",
    "df_target.target.value_counts().plot.bar()"
   ]
  },
  {
   "cell_type": "code",
   "execution_count": 62,
   "metadata": {},
   "outputs": [],
   "source": [
    "# save data file\n",
    "whole_file = '/label.csv'\n",
    "df_target.to_csv(cwd + whole_file, encoding='utf-8', index=False, header = ['uid', 'target'])"
   ]
  },
  {
   "cell_type": "code",
   "execution_count": 63,
   "metadata": {},
   "outputs": [],
   "source": [
    "# save data file\n",
    "whole_file = '/all_clean_data.csv'\n",
    "wcd.to_csv(cwd + whole_file, encoding='utf-8', index=False, header = ['date', 'uid', 'play_time', 'song_length', 'song_id'])"
   ]
  },
  {
   "cell_type": "code",
   "execution_count": null,
   "metadata": {
    "collapsed": true
   },
   "outputs": [],
   "source": []
  }
 ],
 "metadata": {
  "kernelspec": {
   "display_name": "Python 3",
   "language": "python",
   "name": "python3"
  },
  "language_info": {
   "codemirror_mode": {
    "name": "ipython",
    "version": 3
   },
   "file_extension": ".py",
   "mimetype": "text/x-python",
   "name": "python",
   "nbconvert_exporter": "python",
   "pygments_lexer": "ipython3",
   "version": "3.6.1"
  }
 },
 "nbformat": 4,
 "nbformat_minor": 2
}
