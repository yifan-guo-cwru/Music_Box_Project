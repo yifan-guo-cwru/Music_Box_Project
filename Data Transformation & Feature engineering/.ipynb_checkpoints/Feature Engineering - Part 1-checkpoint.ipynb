{
 "cells": [
  {
   "cell_type": "code",
   "execution_count": 1,
   "metadata": {},
   "outputs": [
    {
     "name": "stdout",
     "output_type": "stream",
     "text": [
      "Welcome to\n",
      "      ____              __\n",
      "     / __/__  ___ _____/ /__\n",
      "    _\\ \\/ _ \\/ _ `/ __/  '_/\n",
      "   /__ / .__/\\_,_/_/ /_/\\_\\   version 2.2.1\n",
      "      /_/\n",
      "\n",
      "Using Python version 3.6.1 (default, May 11 2017 13:04:09)\n",
      "SparkSession available as 'spark'.\n"
     ]
    }
   ],
   "source": [
    "import os\n",
    "filename = '/usr/local/Cellar/apache-spark/2.2.1/libexec/python/pyspark/shell.py'\n",
    "exec(open(filename).read())"
   ]
  },
  {
   "cell_type": "code",
   "execution_count": 2,
   "metadata": {
    "collapsed": true
   },
   "outputs": [],
   "source": [
    "from pyspark.sql import SparkSession"
   ]
  },
  {
   "cell_type": "code",
   "execution_count": 3,
   "metadata": {
    "collapsed": true
   },
   "outputs": [],
   "source": [
    "# May take awhile locally\n",
    "spark = SparkSession.builder.appName(\"Feature\").getOrCreate()"
   ]
  },
  {
   "cell_type": "markdown",
   "metadata": {},
   "source": [
    "## Feature Engineering "
   ]
  },
  {
   "cell_type": "markdown",
   "metadata": {},
   "source": [
    "### Step 1: Select Feature"
   ]
  },
  {
   "cell_type": "code",
   "execution_count": 4,
   "metadata": {
    "collapsed": true
   },
   "outputs": [],
   "source": [
    "# Let Spark know about the header and infer the Schema types!\n",
    "df_whole = spark.read.csv('../data/all_play.log.fn', sep = '\\t', inferSchema=True, header=True)"
   ]
  },
  {
   "cell_type": "code",
   "execution_count": 5,
   "metadata": {},
   "outputs": [
    {
     "name": "stdout",
     "output_type": "stream",
     "text": [
      "root\n",
      " |-- uid: string (nullable = true)\n",
      " |-- device: string (nullable = true)\n",
      " |-- song_id: string (nullable = true)\n",
      " |-- song_type: string (nullable = true)\n",
      " |-- song_name: string (nullable = true)\n",
      " |-- singers: string (nullable = true)\n",
      " |-- play_time: string (nullable = true)\n",
      " |-- song_length: string (nullable = true)\n",
      " |-- paid_flag: string (nullable = true)\n",
      " |-- file_name: string (nullable = true)\n",
      "\n"
     ]
    }
   ],
   "source": [
    "df_whole.printSchema()"
   ]
  },
  {
   "cell_type": "code",
   "execution_count": 6,
   "metadata": {},
   "outputs": [
    {
     "name": "stdout",
     "output_type": "stream",
     "text": [
      "+----------+------+---------+---------+--------------------+--------------------+---------+-----------+---------+------------------+\n",
      "|       uid|device|  song_id|song_type|           song_name|             singers|play_time|song_length|paid_flag|         file_name|\n",
      "+----------+------+---------+---------+--------------------+--------------------+---------+-----------+---------+------------------+\n",
      "| 154422682|   ar |20870993 |       1 |                 用情 |              狮子合唱团 |   22013 |       332 |       0 | 20170301_play.log|\n",
      "|154421907 |   ip | 6560858 |       0 |             表情不要悲伤 |    伯贤&D.O.&张艺兴&朴灿烈 |      96 |       161 |       0 | 20170301_play.log|\n",
      "|154422630 |   ar | 3385963 |       1 |Baby, Don't Cry(人...|                EXO |  235868 |       235 |       0 | 20170301_play.log|\n",
      "|154410267 |   ar | 6777172 |       0 |   3D-环绕音律1(3D Mix) |             McTaiM |     164 |       237 |       0 | 20170301_play.log|\n",
      "|154407793 |   ar |19472465 |       0 |              刚好遇见你 |                曲肖冰 |      24 |       201 |       0 | 20170301_play.log|\n",
      "|154422626 |   ar | 3198036 |       1 |              只唱给你听 |            SpeXial |  275249 |         0 |       0 | 20170301_play.log|\n",
      "|154422681 |   ar |  891952 |       0 |   老男孩-(电影《老男孩》主题曲) |               筷子兄弟 |     300 |       300 |       0 | 20170301_play.log|\n",
      "|154408091 |   ar | 4623962 |       0 |             预谋 许佳慧 |               网络歌手 |     243 |       243 |       0 | 20170301_play.log|\n",
      "|154422571 |   ar |  703750 |       0 |            爸爸妈妈听我说 |               儿童歌曲 |     207 |       207 |       0 | 20170301_play.log|\n",
      "|154417311 |   ar | 6491500 |       0 |        Stereo Love |        Edward Maya |      56 |       184 |       0 | 20170301_play.log|\n",
      "|154421166 |   ar | 1967689 |       0 |    悟-(电影《新少林寺》主题曲) |                刘德华 |     139 |       275 |       0 | 20170301_play.log|\n",
      "|154421859 |   ar | 6126586 |       0 |        老情歌(27秒铃声版) |                 童丽 |       4 |        27 |       0 | 20170301_play.log|\n",
      "|154422660 |   ar |11914644 |       0 |                 温柔 |杨丞琳[一闪一闪亮晶晶的钻石女士]...|     299 |       300 |       0 | 20170301_play.log|\n",
      "|154422590 |   ar | 6468891 |       0 |                 演员 |                薛之谦 |     261 |       261 |       0 | 20170301_play.log|\n",
      "|154419565 |   ar |15196649 |       0 |            我太帅了万人爱 |               MC马克 |       8 |        65 |       0 | 20170301_play.log|\n",
      "|154414286 |   ar | 7143177 |       0 |超越无限-(电影《听·见 林俊杰》...|                林俊杰 |      26 |         0 |       0 | 20170301_play.log|\n",
      "|154422089 |   ar |       0 |       1 |           预谋dj 许佳慧 |听30音乐网首发Qq369849635 |       7 |       345 |       0 | 20170301_play.log|\n",
      "|154422443 |   ip | 6247282 |       0 |            假日(DJ版) |                罗百吉 |       1 |       277 |       0 | 20170301_play.log|\n",
      "|154412729 |   ip | 4357368 |       0 |英文(Dj,2012 超好听的英文...|               慢摇舞曲 |       4 |       271 |       0 | 20170301_play.log|\n",
      "|153985859 |   ar | 6762438 |       0 |         门铃声(1秒铃声版) |               手机铃声 |       1 |         1 |       0 | 20170301_play.log|\n",
      "+----------+------+---------+---------+--------------------+--------------------+---------+-----------+---------+------------------+\n",
      "only showing top 20 rows\n",
      "\n"
     ]
    }
   ],
   "source": [
    "df_whole.show()"
   ]
  },
  {
   "cell_type": "code",
   "execution_count": 31,
   "metadata": {},
   "outputs": [
    {
     "name": "stdout",
     "output_type": "stream",
     "text": [
      "+--------+---------+---------+-----------+---------+\n",
      "|    date|      uid|play_time|song_length|  song_id|\n",
      "+--------+---------+---------+-----------+---------+\n",
      "|20170301|154422682|   22013 |       332 |20870993 |\n",
      "|20170301|154421907|      96 |       161 | 6560858 |\n",
      "|20170301|154422630|  235868 |       235 | 3385963 |\n",
      "|20170301|154410267|     164 |       237 | 6777172 |\n",
      "|20170301|154407793|      24 |       201 |19472465 |\n",
      "|20170301|154422626|  275249 |         0 | 3198036 |\n",
      "|20170301|154422681|     300 |       300 |  891952 |\n",
      "|20170301|154408091|     243 |       243 | 4623962 |\n",
      "|20170301|154422571|     207 |       207 |  703750 |\n",
      "|20170301|154417311|      56 |       184 | 6491500 |\n",
      "|20170301|154421166|     139 |       275 | 1967689 |\n",
      "|20170301|154421859|       4 |        27 | 6126586 |\n",
      "|20170301|154422660|     299 |       300 |11914644 |\n",
      "|20170301|154422590|     261 |       261 | 6468891 |\n",
      "|20170301|154419565|       8 |        65 |15196649 |\n",
      "|20170301|154414286|      26 |         0 | 7143177 |\n",
      "|20170301|154422089|       7 |       345 |       0 |\n",
      "|20170301|154422443|       1 |       277 | 6247282 |\n",
      "|20170301|154412729|       4 |       271 | 4357368 |\n",
      "|20170301|153985859|       1 |         1 | 6762438 |\n",
      "+--------+---------+---------+-----------+---------+\n",
      "only showing top 20 rows\n",
      "\n"
     ]
    }
   ],
   "source": [
    "# Parsing data from date\n",
    "# https://stackoverflow.com/questions/46410887/pyspark-string-matching-to-create-new-column\n",
    "\n",
    "from pyspark.sql.functions import regexp_extract, col\n",
    "\n",
    "# use regulization expression for string manipulation \n",
    "# required feature 1 - date\n",
    "# e.g. \"20170301_play.log\" -> \"20170301\"\n",
    "df_whole = df_whole.withColumn('date', regexp_extract(col('file_name'), '([0-9]{8})(_)(\\w+)', 1))\n",
    "#df_whole.show()\n",
    "\n",
    "# required feature 2 - uid\n",
    "# e.g. \"154422682\" -> '154422682'(reserve the first night digits)\n",
    "df_whole = df_whole.withColumn('uid', regexp_extract(col('uid'), '([0-9]{9})', 1))\n",
    "#df_whole.show()\n",
    "\n",
    "# optional feature - play_time, song_length, song_id(maybe used for music recommendation)\n",
    "# select all there feature: date, uid, play_time, song_length, song_id\n",
    "# restore into a new dataframe\n",
    "df_whole = df_whole.withColumn('play_time', regexp_extract(col('play_time'), '([0-9])', 1))\n",
    "df_whole = df_whole.withColumn('song_length', regexp_extract(col('song_length'), '([0-9])', 1))\n",
    "df_whole = df_whole.withColumn('song_id', regexp_extract(col('song_id'), '([0-9])', 1))\n",
    "df_select = df_whole.select(['date', 'uid', 'play_time', 'song_length', 'song_id'])\n",
    "df_select.show()"
   ]
  },
  {
   "cell_type": "code",
   "execution_count": 15,
   "metadata": {},
   "outputs": [
    {
     "name": "stdout",
     "output_type": "stream",
     "text": [
      "root\n",
      " |-- date: string (nullable = true)\n",
      " |-- uid: string (nullable = true)\n",
      " |-- play_time: string (nullable = true)\n",
      " |-- song_length: string (nullable = true)\n",
      " |-- song_id: string (nullable = true)\n",
      "\n"
     ]
    }
   ],
   "source": [
    "df_select.printSchema()"
   ]
  },
  {
   "cell_type": "markdown",
   "metadata": {},
   "source": [
    "### Transfer Data Type"
   ]
  },
  {
   "cell_type": "markdown",
   "metadata": {},
   "source": [
    "Before we trasfer the data type, we should see whether there exist some outlier values. First, let's see the variable  of \"date\"."
   ]
  },
  {
   "cell_type": "code",
   "execution_count": 37,
   "metadata": {},
   "outputs": [
    {
     "name": "stdout",
     "output_type": "stream",
     "text": [
      "+--------+-------+\n",
      "|date    |count  |\n",
      "+--------+-------+\n",
      "|20170504|2520194|\n",
      "|20170413|3385074|\n",
      "|20170308|1230621|\n",
      "|20170410|3439052|\n",
      "|20170428|2957021|\n",
      "|20170417|3115820|\n",
      "|20170302|2452263|\n",
      "|20170420|3013598|\n",
      "|20170430|3159112|\n",
      "|20170405|3856179|\n",
      "|20170505|2575692|\n",
      "|20170404|4950216|\n",
      "|20170402|5709371|\n",
      "|20170424|1508418|\n",
      "|null    |222965 |\n",
      "|20170406|3887075|\n",
      "|20170416|3564697|\n",
      "|20170331|7040986|\n",
      "|20170415|3598986|\n",
      "|20170429|3343811|\n",
      "|20170419|3026294|\n",
      "|20170509|2495600|\n",
      "|20170421|3043848|\n",
      "|20170501|2959583|\n",
      "|20170411|2336126|\n",
      "|20170422|3253855|\n",
      "|20170303|1851942|\n",
      "|20170306|1351465|\n",
      "|20170408|4061267|\n",
      "|20170409|3952596|\n",
      "|20170304|1709097|\n",
      "|20170427|3131496|\n",
      "|20170423|3229367|\n",
      "|20170506|2881461|\n",
      "|20170407|3813355|\n",
      "|20170503|2558772|\n",
      "|20170426|2793864|\n",
      "|20170510|2495406|\n",
      "|20170401|5800351|\n",
      "|20170309|1172860|\n",
      "|20170425|2823102|\n",
      "|20170418|3017081|\n",
      "|20170512|2526709|\n",
      "|20170507|2773459|\n",
      "|20170502|2489854|\n",
      "|20170330|4759605|\n",
      "|20170412|3460913|\n",
      "|20170307|1288366|\n",
      "|20170403|3595625|\n",
      "|20170305|1607932|\n",
      "|20170511|2457894|\n",
      "|        |3296   |\n",
      "|20170339|2193336|\n",
      "|20170301|3421492|\n",
      "|20170508|2517020|\n",
      "|20170414|2281703|\n",
      "+--------+-------+\n",
      "\n"
     ]
    }
   ],
   "source": [
    "# show the all possible type of date\n",
    "df_select.groupBy(\"date\").count().show(90,False)"
   ]
  },
  {
   "cell_type": "markdown",
   "metadata": {},
   "source": [
    "Now, we could see there are two outlier values. We need to move this. "
   ]
  },
  {
   "cell_type": "code",
   "execution_count": 43,
   "metadata": {},
   "outputs": [],
   "source": [
    "# Drop any row that contains missing data\n",
    "df_select = df_select.na.drop()"
   ]
  },
  {
   "cell_type": "markdown",
   "metadata": {},
   "source": [
    "Then, let's see the variable of \"date\"."
   ]
  },
  {
   "cell_type": "code",
   "execution_count": 44,
   "metadata": {},
   "outputs": [
    {
     "name": "stdout",
     "output_type": "stream",
     "text": [
      "+-------+--------------------+\n",
      "|summary|                date|\n",
      "+-------+--------------------+\n",
      "|  count|           164217719|\n",
      "|   mean|2.0170413824625567E7|\n",
      "| stddev|    58.5894625692998|\n",
      "|    min|                    |\n",
      "|    max|            20170512|\n",
      "+-------+--------------------+\n",
      "\n"
     ]
    }
   ],
   "source": [
    "# show the all possible type of date\n",
    "df_select.describe([\"date\"]).show()"
   ]
  },
  {
   "cell_type": "code",
   "execution_count": 45,
   "metadata": {},
   "outputs": [
    {
     "name": "stdout",
     "output_type": "stream",
     "text": [
      "+--------+-------+\n",
      "|date    |count  |\n",
      "+--------+-------+\n",
      "|20170504|2516949|\n",
      "|20170413|3380796|\n",
      "|20170308|1230621|\n",
      "|20170410|3435108|\n",
      "|20170428|2952460|\n",
      "|20170417|3112159|\n",
      "|20170302|2452263|\n",
      "|20170420|3008111|\n",
      "|20170430|3153132|\n",
      "|20170405|3850905|\n",
      "|20170505|2571197|\n",
      "|20170404|4941358|\n",
      "|20170402|5699764|\n",
      "|20170424|1506606|\n",
      "|20170406|3881751|\n",
      "|20170416|3558109|\n",
      "|20170331|7033246|\n",
      "|20170415|3591673|\n",
      "|20170429|3337713|\n",
      "|20170419|3021366|\n",
      "|20170509|2491675|\n",
      "|20170421|3038619|\n",
      "|20170501|2953738|\n",
      "|20170411|2332928|\n",
      "|20170422|3247357|\n",
      "|20170303|1851942|\n",
      "|20170306|1351465|\n",
      "|20170408|4053207|\n",
      "|20170409|3945463|\n",
      "|20170304|1709097|\n",
      "|20170427|3127340|\n",
      "|20170423|3223963|\n",
      "|20170506|2874456|\n",
      "|20170407|3807564|\n",
      "|20170503|2555248|\n",
      "|20170426|2789468|\n",
      "|20170510|2490997|\n",
      "|20170401|5792550|\n",
      "|20170309|1172860|\n",
      "|20170425|2819081|\n",
      "|20170418|3013580|\n",
      "|20170512|2522303|\n",
      "|20170507|2767560|\n",
      "|20170502|2486697|\n",
      "|20170330|4755802|\n",
      "|20170412|3457415|\n",
      "|20170307|1288366|\n",
      "|20170403|3588991|\n",
      "|20170305|1607932|\n",
      "|20170511|2454415|\n",
      "|        |3178   |\n",
      "|20170339|2193336|\n",
      "|20170301|3421492|\n",
      "|20170508|2513485|\n",
      "|20170414|2278862|\n",
      "+--------+-------+\n",
      "\n"
     ]
    }
   ],
   "source": [
    "# show the all possible type of date\n",
    "df_select.groupBy(\"date\").count().show(90,False)"
   ]
  },
  {
   "cell_type": "markdown",
   "metadata": {},
   "source": [
    "Now, we could see there still exists the blank value. We need to delete it."
   ]
  },
  {
   "cell_type": "code",
   "execution_count": 46,
   "metadata": {},
   "outputs": [
    {
     "name": "stdout",
     "output_type": "stream",
     "text": [
      "+--------+-------+\n",
      "|date    |count  |\n",
      "+--------+-------+\n",
      "|20170504|2516949|\n",
      "|20170413|3380796|\n",
      "|20170308|1230621|\n",
      "|20170410|3435108|\n",
      "|20170428|2952460|\n",
      "|20170417|3112159|\n",
      "|20170302|2452263|\n",
      "|20170420|3008111|\n",
      "|20170430|3153132|\n",
      "|20170405|3850905|\n",
      "|20170505|2571197|\n",
      "|20170404|4941358|\n",
      "|20170402|5699764|\n",
      "|20170424|1506606|\n",
      "|20170406|3881751|\n",
      "|20170416|3558109|\n",
      "|20170331|7033246|\n",
      "|20170415|3591673|\n",
      "|20170429|3337713|\n",
      "|20170419|3021366|\n",
      "|20170509|2491675|\n",
      "|20170421|3038619|\n",
      "|20170501|2953738|\n",
      "|20170411|2332928|\n",
      "|20170422|3247357|\n",
      "|20170303|1851942|\n",
      "|20170306|1351465|\n",
      "|20170408|4053207|\n",
      "|20170409|3945463|\n",
      "|20170304|1709097|\n",
      "|20170427|3127340|\n",
      "|20170423|3223963|\n",
      "|20170506|2874456|\n",
      "|20170407|3807564|\n",
      "|20170503|2555248|\n",
      "|20170426|2789468|\n",
      "|20170510|2490997|\n",
      "|20170401|5792550|\n",
      "|20170309|1172860|\n",
      "|20170425|2819081|\n",
      "|20170418|3013580|\n",
      "|20170512|2522303|\n",
      "|20170507|2767560|\n",
      "|20170502|2486697|\n",
      "|20170330|4755802|\n",
      "|20170412|3457415|\n",
      "|20170307|1288366|\n",
      "|20170403|3588991|\n",
      "|20170305|1607932|\n",
      "|20170511|2454415|\n",
      "|20170339|2193336|\n",
      "|20170301|3421492|\n",
      "|20170508|2513485|\n",
      "|20170414|2278862|\n",
      "+--------+-------+\n",
      "\n"
     ]
    }
   ],
   "source": [
    "df_select = df_select.filter(\"date != ''\")\n",
    "# show the all possible type of date\n",
    "df_select.groupBy(\"date\").count().show(90,False)"
   ]
  },
  {
   "cell_type": "markdown",
   "metadata": {},
   "source": [
    "Now we could see there is no blank value!"
   ]
  },
  {
   "cell_type": "code",
   "execution_count": 54,
   "metadata": {},
   "outputs": [
    {
     "name": "stdout",
     "output_type": "stream",
     "text": [
      "root\n",
      " |-- date: date (nullable = true)\n",
      " |-- uid: integer (nullable = true)\n",
      " |-- play_time: integer (nullable = true)\n",
      " |-- song_length: integer (nullable = true)\n",
      " |-- song_id: integer (nullable = true)\n",
      "\n"
     ]
    }
   ],
   "source": [
    "# change the date_type\n",
    "# https://stackoverflow.com/questions/32284620/how-to-change-a-dataframe-column-from-string-type-to-double-type-in-pyspark\n",
    "\"\"\"\n",
    "    date: DateType\n",
    "    uid: IntegerType\n",
    "    play_time: IntegerType\n",
    "    song_length: IntegerType\n",
    "    song_id: IntegerType   \n",
    "\"\"\"\n",
    "from pyspark.sql.types import DoubleType, IntegerType, DateType\n",
    "from datetime import datetime\n",
    "from pyspark.sql.functions import col, udf\n",
    "from pyspark.sql.types import DateType\n",
    "\n",
    "# https://stackoverflow.com/questions/38080748/convert-pyspark-string-to-date-format\n",
    "\n",
    "# This function converts the string cell into a date:\n",
    "func =  udf (lambda x: datetime.strptime(x, '%Y%m%d'), DateType())\n",
    "\n",
    "df_select = df_select.withColumn('date', func(col('date')))\n",
    "\n",
    "df_select = df_select.withColumn(\"uid\", df_select[\"uid\"].cast(IntegerType()))\n",
    "#df_select = df_select.withColumn(\"play_time\", df_select[\"play_time\"].cast(IntegerType()))\n",
    "#df_select = df_select.withColumn(\"song_length\", df_select[\"song_length\"].cast(IntegerType()))\n",
    "#df_select = df_select.withColumn(\"song_id\", df_select[\"song_id\"].cast(IntegerType()))\n",
    "df_select.printSchema()"
   ]
  },
  {
   "cell_type": "code",
   "execution_count": 48,
   "metadata": {},
   "outputs": [
    {
     "name": "stdout",
     "output_type": "stream",
     "text": [
      "+----------+---------+---------+-----------+-------+\n",
      "|      date|      uid|play_time|song_length|song_id|\n",
      "+----------+---------+---------+-----------+-------+\n",
      "|2017-03-01|154422682|     null|       null|   null|\n",
      "|2017-03-01|154421907|     null|       null|   null|\n",
      "|2017-03-01|154422630|     null|       null|   null|\n",
      "|2017-03-01|154410267|     null|       null|   null|\n",
      "|2017-03-01|154407793|     null|       null|   null|\n",
      "|2017-03-01|154422626|     null|       null|   null|\n",
      "|2017-03-01|154422681|     null|       null|   null|\n",
      "|2017-03-01|154408091|     null|       null|   null|\n",
      "|2017-03-01|154422571|     null|       null|   null|\n",
      "|2017-03-01|154417311|     null|       null|   null|\n",
      "|2017-03-01|154421166|     null|       null|   null|\n",
      "|2017-03-01|154421859|     null|       null|   null|\n",
      "|2017-03-01|154422660|     null|       null|   null|\n",
      "|2017-03-01|154422590|     null|       null|   null|\n",
      "|2017-03-01|154419565|     null|       null|   null|\n",
      "|2017-03-01|154414286|     null|       null|   null|\n",
      "|2017-03-01|154422089|     null|       null|   null|\n",
      "|2017-03-01|154422443|     null|       null|   null|\n",
      "|2017-03-01|154412729|     null|       null|   null|\n",
      "|2017-03-01|153985859|     null|       null|   null|\n",
      "+----------+---------+---------+-----------+-------+\n",
      "only showing top 20 rows\n",
      "\n"
     ]
    }
   ],
   "source": [
    "df_select.show()"
   ]
  },
  {
   "cell_type": "markdown",
   "metadata": {},
   "source": [
    "Also do the same job for the other three feature - play_time, song_length, song_id"
   ]
  },
  {
   "cell_type": "code",
   "execution_count": 53,
   "metadata": {},
   "outputs": [
    {
     "data": {
      "text/plain": [
       "145023546"
      ]
     },
     "execution_count": 53,
     "metadata": {},
     "output_type": "execute_result"
    }
   ],
   "source": [
    "df_select.select([\"play_time\"]).na.drop().count()"
   ]
  },
  {
   "cell_type": "code",
   "execution_count": null,
   "metadata": {
    "collapsed": true
   },
   "outputs": [],
   "source": []
  }
 ],
 "metadata": {
  "kernelspec": {
   "display_name": "Python 3",
   "language": "python",
   "name": "python3"
  },
  "language_info": {
   "codemirror_mode": {
    "name": "ipython",
    "version": 3
   },
   "file_extension": ".py",
   "mimetype": "text/x-python",
   "name": "python",
   "nbconvert_exporter": "python",
   "pygments_lexer": "ipython3",
   "version": "3.6.1"
  }
 },
 "nbformat": 4,
 "nbformat_minor": 2
}
