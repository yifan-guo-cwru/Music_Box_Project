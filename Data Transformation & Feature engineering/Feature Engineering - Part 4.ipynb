{
 "cells": [
  {
   "cell_type": "code",
   "execution_count": 1,
   "metadata": {
    "collapsed": true
   },
   "outputs": [],
   "source": [
    "# load the file_name with ending of .csv under certain directory\n",
    "import os\n",
    "\n",
    "file_names = []\n",
    "cwd = os.getcwd()\n",
    "#print(cwd)\n",
    "directory = os.path.join(cwd + \"/new_filtered_df_select_use.csv/\")\n",
    "for root,dirs,files in os.walk(directory):\n",
    "    for file in files:\n",
    "        if file.endswith(\".csv\"):\n",
    "            file_names.append(str(file))\n",
    "\n",
    "#print(file_names)"
   ]
  },
  {
   "cell_type": "code",
   "execution_count": 2,
   "metadata": {
    "collapsed": true
   },
   "outputs": [],
   "source": [
    "# sort the file_name with ending of .csv under certain directory\n",
    "\n",
    "#grab the middle 5 characters of the file name[index:5-10]:\n",
    "def mid_5chars(x):\n",
    "    return(x[5:10])\n",
    "\n",
    "sorted(file_names, key = mid_5chars)\n",
    "file_names_sorted = [filename for filename in sorted(file_names, key = mid_5chars)]\n",
    "#print(file_names_sorted)"
   ]
  },
  {
   "cell_type": "code",
   "execution_count": 3,
   "metadata": {},
   "outputs": [],
   "source": [
    "import pandas as pd\n",
    "import numpy as np\n",
    "\n",
    "# clean the data whose have the outlier values\n",
    "def is_float(input_data):\n",
    "    try:\n",
    "        float_num = float(input_data)\n",
    "    except ValueError:\n",
    "        return False\n",
    "    return True\n",
    "\n",
    "def is_int(input_data):\n",
    "    try:\n",
    "        float_num = int(input_data)\n",
    "    except ValueError:\n",
    "        return False\n",
    "    return True\n",
    "\n",
    "# delete the negative value \n",
    "def is_pos(input_data):\n",
    "    if input_data > 0.0:\n",
    "        return True\n",
    "    else:\n",
    "        return False\n",
    "\n",
    "def get_true_false_index(df,attr,func):\n",
    "    df[attr + '_true_false_index'] = df[attr].map(func)\n",
    "    df.loc[df[attr + '_true_false_index'] == False, attr] = np.nan\n",
    "    df[attr] = df[attr].astype(float)\n",
    "\n",
    "def clean_data(single_file_name):\n",
    "    directory = os.path.join(cwd + \"/new_filtered_df_select_use.csv/\")\n",
    "    #print(directory + single_file_name)\n",
    "    df = pd.read_csv(directory + single_file_name)\n",
    "\n",
    "    #Drop the raws where any of the elements is nan\n",
    "    df = df.dropna(axis=0, how='any')\n",
    "\n",
    "    attrs = ['play_time', 'song_length', 'song_id', 'uid']\n",
    "    for attr in attrs:\n",
    "        if attrs.index(attr) < 2:\n",
    "            get_true_false_index(df, attr, is_float)\n",
    "        else:\n",
    "            get_true_false_index(df, attr, is_int)\n",
    "\n",
    "    #Drop the raws where any of the elements is nan\n",
    "    df = df.dropna(axis=0, how='any')\n",
    "\n",
    "    # keep the data we care about\n",
    "    df = df[['date', 'uid', 'play_time', 'song_length', 'song_id']]\n",
    "\n",
    "    attrs = ['play_time', 'song_length', 'song_id']\n",
    "    for attr in attrs:\n",
    "        get_true_false_index(df, attr, is_pos)\n",
    "\n",
    "    #Drop the raws where any of the elements is nan\n",
    "    df = df.dropna(axis=0, how='any')\n",
    "\n",
    "    # keep the data we care about\n",
    "    df = df[['date', 'uid', 'play_time', 'song_length', 'song_id']]\n",
    "    df[['uid', 'play_time', 'song_length', 'song_id']].astype('float')\n",
    "    \n",
    "    #the last manipulation: making sure 'play_time' < 'song_length'\n",
    "    df['p_less_than_s'] = np.where((df['play_time'] <= df['song_length']), True, False)\n",
    "    df.loc[df['p_less_than_s'] == False, 'p_less_than_s'] = np.nan\n",
    "    \n",
    "    #Drop the raws where any of the elements is nan\n",
    "    df = df.dropna(axis=0, how='any')\n",
    "    df = df[['date', 'uid', 'play_time', 'song_length', 'song_id']]\n",
    "    #print(df.count())\n",
    "    #print(df.info())\n",
    "\n",
    "    directory = os.path.join(cwd + \"/clean_data/\")\n",
    "    file_name = directory + single_file_name[5:10] + '.csv'\n",
    "    df.to_csv(file_name, encoding='utf-8', index=False)\n"
   ]
  },
  {
   "cell_type": "code",
   "execution_count": 4,
   "metadata": {},
   "outputs": [
    {
     "name": "stderr",
     "output_type": "stream",
     "text": [
      "/anaconda/lib/python3.6/site-packages/IPython/core/interactiveshell.py:2821: DtypeWarning: Columns (4) have mixed types. Specify dtype option on import or set low_memory=False.\n",
      "  if self.run_code(code, result):\n"
     ]
    },
    {
     "name": "stdout",
     "output_type": "stream",
     "text": [
      "1 file converted!\n",
      "2 file converted!\n",
      "3 file converted!\n",
      "4 file converted!\n",
      "5 file converted!\n",
      "6 file converted!\n",
      "7 file converted!\n",
      "8 file converted!\n",
      "9 file converted!\n"
     ]
    },
    {
     "name": "stderr",
     "output_type": "stream",
     "text": [
      "/anaconda/lib/python3.6/site-packages/IPython/core/interactiveshell.py:2821: DtypeWarning: Columns (2,4) have mixed types. Specify dtype option on import or set low_memory=False.\n",
      "  if self.run_code(code, result):\n"
     ]
    },
    {
     "name": "stdout",
     "output_type": "stream",
     "text": [
      "10 file converted!\n",
      "11 file converted!\n",
      "12 file converted!\n",
      "13 file converted!\n",
      "14 file converted!\n",
      "15 file converted!\n",
      "16 file converted!\n",
      "17 file converted!\n",
      "18 file converted!\n",
      "19 file converted!\n",
      "20 file converted!\n",
      "21 file converted!\n",
      "22 file converted!\n",
      "23 file converted!\n",
      "24 file converted!\n",
      "25 file converted!\n",
      "26 file converted!\n"
     ]
    },
    {
     "name": "stderr",
     "output_type": "stream",
     "text": [
      "/anaconda/lib/python3.6/site-packages/IPython/core/interactiveshell.py:2821: DtypeWarning: Columns (3,4) have mixed types. Specify dtype option on import or set low_memory=False.\n",
      "  if self.run_code(code, result):\n"
     ]
    },
    {
     "name": "stdout",
     "output_type": "stream",
     "text": [
      "27 file converted!\n",
      "28 file converted!\n",
      "29 file converted!\n",
      "30 file converted!\n",
      "31 file converted!\n",
      "32 file converted!\n",
      "33 file converted!\n",
      "34 file converted!\n",
      "35 file converted!\n",
      "36 file converted!\n",
      "37 file converted!\n",
      "38 file converted!\n",
      "39 file converted!\n",
      "40 file converted!\n",
      "41 file converted!\n",
      "42 file converted!\n",
      "43 file converted!\n",
      "44 file converted!\n",
      "45 file converted!\n",
      "46 file converted!\n",
      "47 file converted!\n",
      "48 file converted!\n",
      "49 file converted!\n",
      "50 file converted!\n",
      "51 file converted!\n",
      "52 file converted!\n",
      "53 file converted!\n",
      "54 file converted!\n",
      "55 file converted!\n",
      "56 file converted!\n",
      "57 file converted!\n",
      "58 file converted!\n",
      "59 file converted!\n",
      "60 file converted!\n",
      "61 file converted!\n",
      "62 file converted!\n",
      "63 file converted!\n",
      "64 file converted!\n",
      "65 file converted!\n",
      "66 file converted!\n",
      "67 file converted!\n",
      "68 file converted!\n",
      "69 file converted!\n",
      "70 file converted!\n",
      "71 file converted!\n",
      "72 file converted!\n",
      "73 file converted!\n",
      "74 file converted!\n",
      "75 file converted!\n",
      "76 file converted!\n",
      "77 file converted!\n",
      "78 file converted!\n",
      "79 file converted!\n",
      "80 file converted!\n",
      "81 file converted!\n",
      "82 file converted!\n",
      "83 file converted!\n",
      "84 file converted!\n",
      "85 file converted!\n",
      "86 file converted!\n",
      "87 file converted!\n",
      "88 file converted!\n",
      "89 file converted!\n",
      "90 file converted!\n",
      "91 file converted!\n",
      "92 file converted!\n",
      "93 file converted!\n",
      "94 file converted!\n"
     ]
    }
   ],
   "source": [
    "for file_name_sorted in file_names_sorted:\n",
    "    clean_data(file_name_sorted)\n",
    "    print(str(int(file_names_sorted.index(file_name_sorted)) + 1) + ' files converted!')"
   ]
  },
  {
   "cell_type": "code",
   "execution_count": null,
   "metadata": {
    "collapsed": true
   },
   "outputs": [],
   "source": []
  }
 ],
 "metadata": {
  "kernelspec": {
   "display_name": "Python 3",
   "language": "python",
   "name": "python3"
  },
  "language_info": {
   "codemirror_mode": {
    "name": "ipython",
    "version": 3
   },
   "file_extension": ".py",
   "mimetype": "text/x-python",
   "name": "python",
   "nbconvert_exporter": "python",
   "pygments_lexer": "ipython3",
   "version": "3.6.1"
  }
 },
 "nbformat": 4,
 "nbformat_minor": 2
}
