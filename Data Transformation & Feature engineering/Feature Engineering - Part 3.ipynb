{
 "cells": [
  {
   "cell_type": "code",
   "execution_count": 46,
   "metadata": {
    "collapsed": true
   },
   "outputs": [],
   "source": [
    "# load the file_name with ending of .csv under certain directory\n",
    "import os\n",
    "\n",
    "file_names = []\n",
    "cwd = os.getcwd()\n",
    "#print(cwd)\n",
    "directory = os.path.join(cwd + \"/new_filtered_df_select_use.csv/\")\n",
    "for root,dirs,files in os.walk(directory):\n",
    "    for file in files:\n",
    "        if file.endswith(\".csv\"):\n",
    "            file_names.append(str(file))\n",
    "\n",
    "#print(file_names)"
   ]
  },
  {
   "cell_type": "code",
   "execution_count": 47,
   "metadata": {
    "collapsed": true
   },
   "outputs": [],
   "source": [
    "# sort the file_name with ending of .csv under certain directory\n",
    "\n",
    "#grab the middle 5 characters of the file name[index:5-10]:\n",
    "def mid_5chars(x):\n",
    "    return(x[5:10])\n",
    "\n",
    "sorted(file_names, key = mid_5chars)\n",
    "file_names_sorted = [filename for filename in sorted(file_names, key = mid_5chars)]\n",
    "#print(file_names_sorted)"
   ]
  },
  {
   "cell_type": "code",
   "execution_count": 48,
   "metadata": {},
   "outputs": [
    {
     "name": "stderr",
     "output_type": "stream",
     "text": [
      "/anaconda/lib/python3.6/site-packages/IPython/core/interactiveshell.py:2717: DtypeWarning: Columns (4) have mixed types. Specify dtype option on import or set low_memory=False.\n",
      "  interactivity=interactivity, compiler=compiler, result=result)\n"
     ]
    },
    {
     "data": {
      "text/html": [
       "<div>\n",
       "<style scoped>\n",
       "    .dataframe tbody tr th:only-of-type {\n",
       "        vertical-align: middle;\n",
       "    }\n",
       "\n",
       "    .dataframe tbody tr th {\n",
       "        vertical-align: top;\n",
       "    }\n",
       "\n",
       "    .dataframe thead th {\n",
       "        text-align: right;\n",
       "    }\n",
       "</style>\n",
       "<table border=\"1\" class=\"dataframe\">\n",
       "  <thead>\n",
       "    <tr style=\"text-align: right;\">\n",
       "      <th></th>\n",
       "      <th>date</th>\n",
       "      <th>uid</th>\n",
       "      <th>play_time</th>\n",
       "      <th>song_length</th>\n",
       "      <th>song_id</th>\n",
       "    </tr>\n",
       "  </thead>\n",
       "  <tbody>\n",
       "    <tr>\n",
       "      <th>0</th>\n",
       "      <td>2017-03-30</td>\n",
       "      <td>168550892.0</td>\n",
       "      <td>254</td>\n",
       "      <td>254.0</td>\n",
       "      <td>23491655</td>\n",
       "    </tr>\n",
       "    <tr>\n",
       "      <th>1</th>\n",
       "      <td>2017-03-30</td>\n",
       "      <td>168540455.0</td>\n",
       "      <td>189</td>\n",
       "      <td>190.0</td>\n",
       "      <td>298250</td>\n",
       "    </tr>\n",
       "    <tr>\n",
       "      <th>2</th>\n",
       "      <td>2017-03-30</td>\n",
       "      <td>168551247.0</td>\n",
       "      <td>78</td>\n",
       "      <td>149.0</td>\n",
       "      <td>11881432</td>\n",
       "    </tr>\n",
       "    <tr>\n",
       "      <th>3</th>\n",
       "      <td>2017-03-30</td>\n",
       "      <td>168549788.0</td>\n",
       "      <td>16</td>\n",
       "      <td>242.0</td>\n",
       "      <td>295469</td>\n",
       "    </tr>\n",
       "    <tr>\n",
       "      <th>4</th>\n",
       "      <td>2017-03-30</td>\n",
       "      <td>168551248.0</td>\n",
       "      <td>87</td>\n",
       "      <td>87.0</td>\n",
       "      <td>21393368</td>\n",
       "    </tr>\n",
       "  </tbody>\n",
       "</table>\n",
       "</div>"
      ],
      "text/plain": [
       "         date          uid play_time  song_length   song_id\n",
       "0  2017-03-30  168550892.0       254        254.0  23491655\n",
       "1  2017-03-30  168540455.0       189        190.0    298250\n",
       "2  2017-03-30  168551247.0        78        149.0  11881432\n",
       "3  2017-03-30  168549788.0        16        242.0    295469\n",
       "4  2017-03-30  168551248.0        87         87.0  21393368"
      ]
     },
     "execution_count": 48,
     "metadata": {},
     "output_type": "execute_result"
    }
   ],
   "source": [
    "import pandas as pd\n",
    "\n",
    "df = pd.read_csv(directory + file_names_sorted[0])\n",
    "df.head(5)"
   ]
  },
  {
   "cell_type": "code",
   "execution_count": 49,
   "metadata": {},
   "outputs": [
    {
     "data": {
      "text/plain": [
       "date           1075907\n",
       "uid            1006434\n",
       "play_time      1075907\n",
       "song_length    1075907\n",
       "song_id        1075907\n",
       "dtype: int64"
      ]
     },
     "execution_count": 49,
     "metadata": {},
     "output_type": "execute_result"
    }
   ],
   "source": [
    "df.count()"
   ]
  },
  {
   "cell_type": "code",
   "execution_count": 50,
   "metadata": {},
   "outputs": [
    {
     "data": {
      "text/plain": [
       "date           1006434\n",
       "uid            1006434\n",
       "play_time      1006434\n",
       "song_length    1006434\n",
       "song_id        1006434\n",
       "dtype: int64"
      ]
     },
     "execution_count": 50,
     "metadata": {},
     "output_type": "execute_result"
    }
   ],
   "source": [
    "#Drop the raws where any of the elements is nan\n",
    "df = df.dropna(axis=0, how='any')\n",
    "df.count()"
   ]
  },
  {
   "cell_type": "code",
   "execution_count": 51,
   "metadata": {
    "collapsed": true
   },
   "outputs": [],
   "source": [
    "# clean the data whose have the outlier values\n",
    "import numpy as np\n",
    "\n",
    "def is_float(input_data):\n",
    "    try:\n",
    "        float_num = float(input_data)\n",
    "    except ValueError:\n",
    "        return False\n",
    "    return True\n",
    "\n",
    "def is_int(input_data):\n",
    "    try:\n",
    "        float_num = int(input_data)\n",
    "    except ValueError:\n",
    "        return False\n",
    "    return True\n",
    "\n",
    "def get_true_false_index(attr,func):\n",
    "    df[attr + '_true_false_index'] = df[attr].map(func)\n",
    "    df.loc[df[attr + '_true_false_index'] == False, attr] = np.nan\n",
    "    df[attr] = df[attr].astype(float)\n",
    "\n",
    "attrs = ['play_time', 'song_length', 'song_id', 'uid']\n",
    "for attr in attrs:\n",
    "    if attrs.index(attr) < 2:\n",
    "        get_true_false_index(attr, is_float)\n",
    "    else:\n",
    "        get_true_false_index(attr, is_int)"
   ]
  },
  {
   "cell_type": "code",
   "execution_count": 52,
   "metadata": {},
   "outputs": [
    {
     "data": {
      "text/plain": [
       "date                               0\n",
       "uid                                0\n",
       "play_time                       5299\n",
       "song_length                        0\n",
       "song_id                            0\n",
       "play_time_true_false_index         0\n",
       "song_length_true_false_index       0\n",
       "song_id_true_false_index           0\n",
       "uid_true_false_index               0\n",
       "dtype: int64"
      ]
     },
     "execution_count": 52,
     "metadata": {},
     "output_type": "execute_result"
    }
   ],
   "source": [
    "# find the nan value info\n",
    "df.isnull().sum()"
   ]
  },
  {
   "cell_type": "code",
   "execution_count": 53,
   "metadata": {},
   "outputs": [
    {
     "data": {
      "text/plain": [
       "date                            1001135\n",
       "uid                             1001135\n",
       "play_time                       1001135\n",
       "song_length                     1001135\n",
       "song_id                         1001135\n",
       "play_time_true_false_index      1001135\n",
       "song_length_true_false_index    1001135\n",
       "song_id_true_false_index        1001135\n",
       "uid_true_false_index            1001135\n",
       "dtype: int64"
      ]
     },
     "execution_count": 53,
     "metadata": {},
     "output_type": "execute_result"
    }
   ],
   "source": [
    "#Drop the raws where any of the elements is nan\n",
    "df = df.dropna(axis=0, how='any')\n",
    "df.count()"
   ]
  },
  {
   "cell_type": "code",
   "execution_count": 54,
   "metadata": {},
   "outputs": [
    {
     "data": {
      "text/html": [
       "<div>\n",
       "<style scoped>\n",
       "    .dataframe tbody tr th:only-of-type {\n",
       "        vertical-align: middle;\n",
       "    }\n",
       "\n",
       "    .dataframe tbody tr th {\n",
       "        vertical-align: top;\n",
       "    }\n",
       "\n",
       "    .dataframe thead th {\n",
       "        text-align: right;\n",
       "    }\n",
       "</style>\n",
       "<table border=\"1\" class=\"dataframe\">\n",
       "  <thead>\n",
       "    <tr style=\"text-align: right;\">\n",
       "      <th></th>\n",
       "      <th>uid</th>\n",
       "      <th>play_time</th>\n",
       "      <th>song_length</th>\n",
       "      <th>song_id</th>\n",
       "    </tr>\n",
       "  </thead>\n",
       "  <tbody>\n",
       "    <tr>\n",
       "      <th>count</th>\n",
       "      <td>1.001135e+06</td>\n",
       "      <td>1.001135e+06</td>\n",
       "      <td>1.001135e+06</td>\n",
       "      <td>1.001135e+06</td>\n",
       "    </tr>\n",
       "    <tr>\n",
       "      <th>mean</th>\n",
       "      <td>1.682982e+08</td>\n",
       "      <td>-9.944469e+04</td>\n",
       "      <td>2.347888e+02</td>\n",
       "      <td>4.266359e+13</td>\n",
       "    </tr>\n",
       "    <tr>\n",
       "      <th>std</th>\n",
       "      <td>3.877620e+06</td>\n",
       "      <td>1.022393e+08</td>\n",
       "      <td>3.179686e+02</td>\n",
       "      <td>2.140679e+16</td>\n",
       "    </tr>\n",
       "    <tr>\n",
       "      <th>min</th>\n",
       "      <td>1.000872e+08</td>\n",
       "      <td>-1.022973e+11</td>\n",
       "      <td>-1.000000e+00</td>\n",
       "      <td>-1.000000e+00</td>\n",
       "    </tr>\n",
       "    <tr>\n",
       "      <th>25%</th>\n",
       "      <td>1.686122e+08</td>\n",
       "      <td>2.000000e+00</td>\n",
       "      <td>1.780000e+02</td>\n",
       "      <td>7.087960e+05</td>\n",
       "    </tr>\n",
       "    <tr>\n",
       "      <th>50%</th>\n",
       "      <td>1.686874e+08</td>\n",
       "      <td>4.000000e+01</td>\n",
       "      <td>2.360000e+02</td>\n",
       "      <td>4.627739e+06</td>\n",
       "    </tr>\n",
       "    <tr>\n",
       "      <th>75%</th>\n",
       "      <td>1.688118e+08</td>\n",
       "      <td>2.120000e+02</td>\n",
       "      <td>2.750000e+02</td>\n",
       "      <td>7.186125e+06</td>\n",
       "    </tr>\n",
       "    <tr>\n",
       "      <th>max</th>\n",
       "      <td>1.689337e+08</td>\n",
       "      <td>1.590808e+07</td>\n",
       "      <td>7.918800e+04</td>\n",
       "      <td>1.844674e+19</td>\n",
       "    </tr>\n",
       "  </tbody>\n",
       "</table>\n",
       "</div>"
      ],
      "text/plain": [
       "                uid     play_time   song_length       song_id\n",
       "count  1.001135e+06  1.001135e+06  1.001135e+06  1.001135e+06\n",
       "mean   1.682982e+08 -9.944469e+04  2.347888e+02  4.266359e+13\n",
       "std    3.877620e+06  1.022393e+08  3.179686e+02  2.140679e+16\n",
       "min    1.000872e+08 -1.022973e+11 -1.000000e+00 -1.000000e+00\n",
       "25%    1.686122e+08  2.000000e+00  1.780000e+02  7.087960e+05\n",
       "50%    1.686874e+08  4.000000e+01  2.360000e+02  4.627739e+06\n",
       "75%    1.688118e+08  2.120000e+02  2.750000e+02  7.186125e+06\n",
       "max    1.689337e+08  1.590808e+07  7.918800e+04  1.844674e+19"
      ]
     },
     "execution_count": 54,
     "metadata": {},
     "output_type": "execute_result"
    }
   ],
   "source": [
    "# keep the data we care about\n",
    "df = df[['date', 'uid', 'play_time', 'song_length', 'song_id']]\n",
    "df.describe()"
   ]
  },
  {
   "cell_type": "code",
   "execution_count": 57,
   "metadata": {},
   "outputs": [
    {
     "data": {
      "text/plain": [
       "date                                 0\n",
       "uid                                  0\n",
       "play_time                       179076\n",
       "song_length                      90219\n",
       "song_id                          65593\n",
       "play_time_true_false_index           0\n",
       "song_length_true_false_index         0\n",
       "song_id_true_false_index             0\n",
       "dtype: int64"
      ]
     },
     "execution_count": 57,
     "metadata": {},
     "output_type": "execute_result"
    }
   ],
   "source": [
    "# delete the negative value \n",
    "def is_pos(input_data):\n",
    "    if input_data > 0.0:\n",
    "        return True\n",
    "    else:\n",
    "        return False\n",
    "\n",
    "def get_true_false_index(attr,func):\n",
    "    df[attr + '_true_false_index'] = df[attr].map(func)\n",
    "    df.loc[df[attr + '_true_false_index'] == False, attr] = np.nan\n",
    "    df[attr] = df[attr].astype(float)\n",
    "\n",
    "attrs = ['play_time', 'song_length', 'song_id']\n",
    "for attr in attrs:\n",
    "    get_true_false_index(attr, is_pos)\n",
    "\n",
    "# find the negative value info\n",
    "df.isnull().sum()"
   ]
  },
  {
   "cell_type": "code",
   "execution_count": 58,
   "metadata": {},
   "outputs": [
    {
     "data": {
      "text/plain": [
       "date                            741491\n",
       "uid                             741491\n",
       "play_time                       741491\n",
       "song_length                     741491\n",
       "song_id                         741491\n",
       "play_time_true_false_index      741491\n",
       "song_length_true_false_index    741491\n",
       "song_id_true_false_index        741491\n",
       "dtype: int64"
      ]
     },
     "execution_count": 58,
     "metadata": {},
     "output_type": "execute_result"
    }
   ],
   "source": [
    "#Drop the raws where any of the elements is nan\n",
    "df = df.dropna(axis=0, how='any')\n",
    "df.count()"
   ]
  },
  {
   "cell_type": "code",
   "execution_count": 59,
   "metadata": {},
   "outputs": [
    {
     "data": {
      "text/html": [
       "<div>\n",
       "<style scoped>\n",
       "    .dataframe tbody tr th:only-of-type {\n",
       "        vertical-align: middle;\n",
       "    }\n",
       "\n",
       "    .dataframe tbody tr th {\n",
       "        vertical-align: top;\n",
       "    }\n",
       "\n",
       "    .dataframe thead th {\n",
       "        text-align: right;\n",
       "    }\n",
       "</style>\n",
       "<table border=\"1\" class=\"dataframe\">\n",
       "  <thead>\n",
       "    <tr style=\"text-align: right;\">\n",
       "      <th></th>\n",
       "      <th>uid</th>\n",
       "      <th>play_time</th>\n",
       "      <th>song_length</th>\n",
       "      <th>song_id</th>\n",
       "    </tr>\n",
       "  </thead>\n",
       "  <tbody>\n",
       "    <tr>\n",
       "      <th>count</th>\n",
       "      <td>7.414910e+05</td>\n",
       "      <td>7.414910e+05</td>\n",
       "      <td>741491.000000</td>\n",
       "      <td>7.414910e+05</td>\n",
       "    </tr>\n",
       "    <tr>\n",
       "      <th>mean</th>\n",
       "      <td>1.683735e+08</td>\n",
       "      <td>2.856274e+03</td>\n",
       "      <td>257.036664</td>\n",
       "      <td>2.296048e+13</td>\n",
       "    </tr>\n",
       "    <tr>\n",
       "      <th>std</th>\n",
       "      <td>3.497891e+06</td>\n",
       "      <td>3.792106e+04</td>\n",
       "      <td>282.667156</td>\n",
       "      <td>9.439337e+15</td>\n",
       "    </tr>\n",
       "    <tr>\n",
       "      <th>min</th>\n",
       "      <td>1.001574e+08</td>\n",
       "      <td>1.735630e-02</td>\n",
       "      <td>1.000000</td>\n",
       "      <td>1.344000e+03</td>\n",
       "    </tr>\n",
       "    <tr>\n",
       "      <th>25%</th>\n",
       "      <td>1.686112e+08</td>\n",
       "      <td>1.300000e+01</td>\n",
       "      <td>201.000000</td>\n",
       "      <td>1.028591e+06</td>\n",
       "    </tr>\n",
       "    <tr>\n",
       "      <th>50%</th>\n",
       "      <td>1.686859e+08</td>\n",
       "      <td>8.900000e+01</td>\n",
       "      <td>244.000000</td>\n",
       "      <td>5.354731e+06</td>\n",
       "    </tr>\n",
       "    <tr>\n",
       "      <th>75%</th>\n",
       "      <td>1.688104e+08</td>\n",
       "      <td>2.310000e+02</td>\n",
       "      <td>283.000000</td>\n",
       "      <td>8.398782e+06</td>\n",
       "    </tr>\n",
       "    <tr>\n",
       "      <th>max</th>\n",
       "      <td>1.689337e+08</td>\n",
       "      <td>1.590808e+07</td>\n",
       "      <td>11491.000000</td>\n",
       "      <td>4.870247e+18</td>\n",
       "    </tr>\n",
       "  </tbody>\n",
       "</table>\n",
       "</div>"
      ],
      "text/plain": [
       "                uid     play_time    song_length       song_id\n",
       "count  7.414910e+05  7.414910e+05  741491.000000  7.414910e+05\n",
       "mean   1.683735e+08  2.856274e+03     257.036664  2.296048e+13\n",
       "std    3.497891e+06  3.792106e+04     282.667156  9.439337e+15\n",
       "min    1.001574e+08  1.735630e-02       1.000000  1.344000e+03\n",
       "25%    1.686112e+08  1.300000e+01     201.000000  1.028591e+06\n",
       "50%    1.686859e+08  8.900000e+01     244.000000  5.354731e+06\n",
       "75%    1.688104e+08  2.310000e+02     283.000000  8.398782e+06\n",
       "max    1.689337e+08  1.590808e+07   11491.000000  4.870247e+18"
      ]
     },
     "execution_count": 59,
     "metadata": {},
     "output_type": "execute_result"
    }
   ],
   "source": [
    "# keep the data we care about\n",
    "df = df[['date', 'uid', 'play_time', 'song_length', 'song_id']]\n",
    "df.describe()"
   ]
  },
  {
   "cell_type": "code",
   "execution_count": 63,
   "metadata": {
    "collapsed": true
   },
   "outputs": [],
   "source": [
    "#the last manipulation: making sure 'play_time' < 'song_length'\n",
    "df['p_less_than_s'] = np.where((df['play_time'] <= df['song_length']), True, False)\n",
    "df.loc[df['p_less_than_s'] == False, 'p_less_than_s'] = np.nan"
   ]
  },
  {
   "cell_type": "code",
   "execution_count": 65,
   "metadata": {},
   "outputs": [
    {
     "data": {
      "text/plain": [
       "date             710018\n",
       "uid              710018\n",
       "play_time        710018\n",
       "song_length      710018\n",
       "song_id          710018\n",
       "p_less_than_s    710018\n",
       "dtype: int64"
      ]
     },
     "execution_count": 65,
     "metadata": {},
     "output_type": "execute_result"
    }
   ],
   "source": [
    "#Drop the raws where any of the elements is nan\n",
    "df = df.dropna(axis=0, how='any')\n",
    "df.count()"
   ]
  },
  {
   "cell_type": "code",
   "execution_count": 67,
   "metadata": {
    "collapsed": true
   },
   "outputs": [],
   "source": [
    "directory = os.path.join(cwd + \"/clean_data/\")\n",
    "file_name = directory + file_names_sorted[0][5:10] + '.csv'\n",
    "df.to_csv(file_name, encoding='utf-8', index=False)"
   ]
  },
  {
   "cell_type": "code",
   "execution_count": null,
   "metadata": {
    "collapsed": true
   },
   "outputs": [],
   "source": []
  }
 ],
 "metadata": {
  "kernelspec": {
   "display_name": "Python 3",
   "language": "python",
   "name": "python3"
  },
  "language_info": {
   "codemirror_mode": {
    "name": "ipython",
    "version": 3
   },
   "file_extension": ".py",
   "mimetype": "text/x-python",
   "name": "python",
   "nbconvert_exporter": "python",
   "pygments_lexer": "ipython3",
   "version": "3.6.1"
  }
 },
 "nbformat": 4,
 "nbformat_minor": 2
}
